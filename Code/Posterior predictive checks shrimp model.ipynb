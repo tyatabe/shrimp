{
 "cells": [
  {
   "cell_type": "markdown",
   "metadata": {},
   "source": [
    "#### Posterior predictive checks of shrimp model\n",
    "#### Objective:\n",
    "Run posterior predictive checks on Shrimp model\n",
    "\n",
    "#### Methods\n",
    "Sample from the posterior distribution and plot distribution the distribution of simulated results versus the obersved ones\n",
    "\n",
    "#### Results:\n",
    " - Model predictions match the observed data\n",
    " \n",
    "#### Conclusions\n",
    " - Our model correctly captures the observed probability of a positive farm\n",
    " - It is well specified"
   ]
  },
  {
   "cell_type": "markdown",
   "metadata": {},
   "source": [
    "Import require R packages: bayesplot and dplyr"
   ]
  },
  {
   "cell_type": "code",
   "execution_count": 1,
   "metadata": {},
   "outputs": [
    {
     "name": "stderr",
     "output_type": "stream",
     "text": [
      "This is bayesplot version 1.4.0\n",
      "- Plotting theme set to bayesplot::theme_default()\n",
      "- Online documentation at mc-stan.org/bayesplot\n"
     ]
    }
   ],
   "source": [
    "library(bayesplot)\n",
    "\n",
    "library(dplyr)"
   ]
  },
  {
   "cell_type": "markdown",
   "metadata": {},
   "source": [
    "Reading in the data"
   ]
  },
  {
   "cell_type": "markdown",
   "metadata": {},
   "source": [
    "Posterior distribution"
   ]
  },
  {
   "cell_type": "code",
   "execution_count": 37,
   "metadata": {
    "collapsed": true
   },
   "outputs": [],
   "source": [
    "post <- readRDS('postm1.1.rds')"
   ]
  },
  {
   "cell_type": "markdown",
   "metadata": {},
   "source": [
    "Data used for fitting the model"
   ]
  },
  {
   "cell_type": "code",
   "execution_count": 4,
   "metadata": {
    "collapsed": true
   },
   "outputs": [],
   "source": [
    "df <- read.csv('Bayeshrimp_exploration_files/EJs.csv')"
   ]
  },
  {
   "cell_type": "code",
   "execution_count": 8,
   "metadata": {},
   "outputs": [
    {
     "name": "stdout",
     "output_type": "stream",
     "text": [
      "'data.frame':\t270 obs. of  10 variables:\n",
      " $ X   : int  1 3 4 5 7 9 11 12 14 16 ...\n",
      " $ JLSA: Factor w/ 10 levels \"Ahome\",\"Angostura\",..: 2 3 10 9 1 7 1 3 1 1 ...\n",
      " $ I22 : int  1 0 0 1 0 0 0 0 0 0 ...\n",
      " $ I25 : int  1 1 0 1 0 1 0 1 0 0 ...\n",
      " $ D5  : int  0 1 1 1 1 1 1 1 1 1 ...\n",
      " $ I24 : int  1 0 0 1 0 0 0 0 0 0 ...\n",
      " $ A10 : int  0 2 2 2 2 2 2 0 2 2 ...\n",
      " $ A9  : int  0 1 2 2 2 0 1 1 1 1 ...\n",
      " $ B3  : int  1 1 0 1 1 0 1 0 1 1 ...\n",
      " $ H6  : int  1 0 0 1 0 0 0 0 1 0 ...\n"
     ]
    }
   ],
   "source": [
    "str(df)"
   ]
  },
  {
   "cell_type": "code",
   "execution_count": 38,
   "metadata": {
    "scrolled": true
   },
   "outputs": [
    {
     "name": "stdout",
     "output_type": "stream",
     "text": [
      "List of 15\n",
      " $ a_JSLA_raw: num [1:8000, 1:10] -0.472 -0.853 -0.566 -1.201 -1.373 ...\n",
      "  ..- attr(*, \"dimnames\")=List of 2\n",
      "  .. ..$ iterations: NULL\n",
      "  .. ..$           : NULL\n",
      " $ a         : num [1:8000(1d)] -0.438 0.294 -0.915 0.681 -0.4 ...\n",
      "  ..- attr(*, \"dimnames\")=List of 1\n",
      "  .. ..$ iterations: NULL\n",
      " $ sigma_JSLA: num [1:8000(1d)] 1.299 1.427 1.185 0.957 0.997 ...\n",
      "  ..- attr(*, \"dimnames\")=List of 1\n",
      "  .. ..$ iterations: NULL\n",
      " $ b5        : num [1:8000(1d)] 0.0489 -0.35622 0.00246 0.27434 0.24367 ...\n",
      "  ..- attr(*, \"dimnames\")=List of 1\n",
      "  .. ..$ iterations: NULL\n",
      " $ bd        : num [1:8000(1d)] -1.097 -1.984 -2.323 -1.898 -0.865 ...\n",
      "  ..- attr(*, \"dimnames\")=List of 1\n",
      "  .. ..$ iterations: NULL\n",
      " $ b2        : num [1:8000(1d)] 0.451 0.909 0.896 0.713 0.203 ...\n",
      "  ..- attr(*, \"dimnames\")=List of 1\n",
      "  .. ..$ iterations: NULL\n",
      " $ b4        : num [1:8000(1d)] 1.168 0.604 0.767 0.248 0.951 ...\n",
      "  ..- attr(*, \"dimnames\")=List of 1\n",
      "  .. ..$ iterations: NULL\n",
      " $ ba        : num [1:8000(1d)] -0.329 0.209 0.511 0.309 -0.118 ...\n",
      "  ..- attr(*, \"dimnames\")=List of 1\n",
      "  .. ..$ iterations: NULL\n",
      " $ b9        : num [1:8000(1d)] 0.1522 -0.0335 -0.2842 -0.2343 -0.1381 ...\n",
      "  ..- attr(*, \"dimnames\")=List of 1\n",
      "  .. ..$ iterations: NULL\n",
      " $ b3        : num [1:8000(1d)] 0.288 0.146 1.153 -0.233 0.995 ...\n",
      "  ..- attr(*, \"dimnames\")=List of 1\n",
      "  .. ..$ iterations: NULL\n",
      " $ a_JSLA    : num [1:8000, 1:10] -0.613 -1.218 -0.67 -1.149 -1.368 ...\n",
      "  ..- attr(*, \"dimnames\")=List of 2\n",
      "  .. ..$ iterations: NULL\n",
      "  .. ..$           : NULL\n",
      " $ p         : num [1:8000, 1:270] 0.914 0.805 0.825 0.828 0.944 ...\n",
      "  ..- attr(*, \"dimnames\")=List of 2\n",
      "  .. ..$ iterations: NULL\n",
      "  .. ..$           : NULL\n",
      " $ log_lik   : num [1:8000, 1:270] -0.337 -0.369 -0.363 -0.362 -0.329 ...\n",
      "  ..- attr(*, \"dimnames\")=List of 2\n",
      "  .. ..$ iterations: NULL\n",
      "  .. ..$           : NULL\n",
      " $ y_sim     : num [1:8000, 1:270] 0 1 1 0 1 1 1 1 1 0 ...\n",
      "  ..- attr(*, \"dimnames\")=List of 2\n",
      "  .. ..$ iterations: NULL\n",
      "  .. ..$           : NULL\n",
      " $ lp__      : num [1:8000(1d)] -142 -132 -138 -138 -137 ...\n",
      "  ..- attr(*, \"dimnames\")=List of 1\n",
      "  .. ..$ iterations: NULL\n"
     ]
    }
   ],
   "source": [
    "str(post)"
   ]
  },
  {
   "cell_type": "markdown",
   "metadata": {},
   "source": [
    "Creating a table with the proportion of positives per JLSA"
   ]
  },
  {
   "cell_type": "code",
   "execution_count": 32,
   "metadata": {
    "collapsed": true
   },
   "outputs": [],
   "source": [
    "df_by_jsla <- df %>% group_by(JLSA)\n",
    "prevalence = df_by_jsla %>% summarise(prev = mean(as.integer(H6)))"
   ]
  },
  {
   "cell_type": "code",
   "execution_count": 26,
   "metadata": {
    "collapsed": true
   },
   "outputs": [],
   "source": [
    "prevalence = table(df$JLSA, df$H6)"
   ]
  },
  {
   "cell_type": "code",
   "execution_count": 33,
   "metadata": {
    "scrolled": true
   },
   "outputs": [
    {
     "name": "stderr",
     "output_type": "stream",
     "text": [
      "Warning message in FUN(X[[i]], ...):\n",
      "“input string 1 is invalid in this locale”Warning message in FUN(X[[i]], ...):\n",
      "“input string 1 is invalid in this locale”Warning message in FUN(X[[i]], ...):\n",
      "“input string 1 is invalid in this locale”Warning message in FUN(X[[i]], ...):\n",
      "“input string 1 is invalid in this locale”Warning message in FUN(X[[i]], ...):\n",
      "“input string 1 is invalid in this locale”Warning message in FUN(X[[i]], ...):\n",
      "“input string 1 is invalid in this locale”Warning message in FUN(X[[i]], ...):\n",
      "“input string 1 is invalid in this locale”Warning message in FUN(X[[i]], ...):\n",
      "“input string 1 is invalid in this locale”Warning message in FUN(X[[i]], ...):\n",
      "“input string 1 is invalid in this locale”Warning message in FUN(X[[i]], ...):\n",
      "“input string 1 is invalid in this locale”Warning message in FUN(X[[i]], ...):\n",
      "“input string 1 is invalid in this locale”Warning message in FUN(X[[i]], ...):\n",
      "“input string 1 is invalid in this locale”Warning message in FUN(X[[i]], ...):\n",
      "“input string 1 is invalid in this locale”Warning message in FUN(X[[i]], ...):\n",
      "“input string 1 is invalid in this locale”Warning message in FUN(X[[i]], ...):\n",
      "“input string 1 is invalid in this locale”Warning message in FUN(X[[i]], ...):\n",
      "“input string 1 is invalid in this locale”Warning message in grepl(\"<html.*>\", data[[\"text/html\"]], ignore.case = TRUE):\n",
      "“input string 1 is invalid in this locale”"
     ]
    },
    {
     "data": {
      "text/html": [
       "<table>\n",
       "<thead><tr><th scope=col>JLSA</th><th scope=col>prev</th></tr></thead>\n",
       "<tbody>\n",
       "\t<tr><td>Ahome                  </td><td>0.18032787             </td></tr>\n",
       "\t<tr><td>Angostura              </td><td>0.77777778             </td></tr>\n",
       "\t<tr><td>Eldorado               </td><td>0.57142857             </td></tr>\n",
       "\t<tr><td>Escuinapa              </td><td>0.40000000             </td></tr>\n",
       "\t<tr><td>Guasave Norte          </td><td>0.88000000             </td></tr>\n",
       "\t<tr><td>Guasave Sur            </td><td>0.64516129             </td></tr>\n",
       "\t<tr><td>Mazatl<e0>n-San Ignacio</td><td>0.04545455             </td></tr>\n",
       "\t<tr><td>Navolato Norte         </td><td>0.61111111             </td></tr>\n",
       "\t<tr><td>Navolato Sur           </td><td>0.85714286             </td></tr>\n",
       "\t<tr><td>Rosario                </td><td>0.07692308             </td></tr>\n",
       "</tbody>\n",
       "</table>\n"
      ],
      "text/markdown": [
       "\n",
       "JLSA | prev | \n",
       "|---|---|---|---|---|---|---|---|---|---|\n",
       "| Ahome                   | 0.18032787              | \n",
       "| Angostura               | 0.77777778              | \n",
       "| Eldorado                | 0.57142857              | \n",
       "| Escuinapa               | 0.40000000              | \n",
       "| Guasave Norte           | 0.88000000              | \n",
       "| Guasave Sur             | 0.64516129              | \n",
       "| Mazatl<e0>n-San Ignacio | 0.04545455              | \n",
       "| Navolato Norte          | 0.61111111              | \n",
       "| Navolato Sur            | 0.85714286              | \n",
       "| Rosario                 | 0.07692308              | \n",
       "\n",
       "\n"
      ],
      "text/plain": [
       "   JLSA                    prev      \n",
       "1  Ahome                   0.18032787\n",
       "2  Angostura               0.77777778\n",
       "3  Eldorado                0.57142857\n",
       "4  Escuinapa               0.40000000\n",
       "5  Guasave Norte           0.88000000\n",
       "6  Guasave Sur             0.64516129\n",
       "7  Mazatl\\xe0n-San Ignacio 0.04545455\n",
       "8  Navolato Norte          0.61111111\n",
       "9  Navolato Sur            0.85714286\n",
       "10 Rosario                 0.07692308"
      ]
     },
     "metadata": {},
     "output_type": "display_data"
    }
   ],
   "source": [
    "prevalence"
   ]
  },
  {
   "cell_type": "markdown",
   "metadata": {},
   "source": [
    "Merging posterior with farm/JLSA data frame"
   ]
  },
  {
   "cell_type": "code",
   "execution_count": 39,
   "metadata": {},
   "outputs": [
    {
     "name": "stdout",
     "output_type": "stream",
     "text": [
      "'data.frame':\t270 obs. of  10 variables:\n",
      " $ X   : int  1 3 4 5 7 9 11 12 14 16 ...\n",
      " $ JLSA: Factor w/ 10 levels \"Ahome\",\"Angostura\",..: 2 3 10 9 1 7 1 3 1 1 ...\n",
      " $ I22 : int  1 0 0 1 0 0 0 0 0 0 ...\n",
      " $ I25 : int  1 1 0 1 0 1 0 1 0 0 ...\n",
      " $ D5  : int  0 1 1 1 1 1 1 1 1 1 ...\n",
      " $ I24 : int  1 0 0 1 0 0 0 0 0 0 ...\n",
      " $ A10 : int  0 2 2 2 2 2 2 0 2 2 ...\n",
      " $ A9  : int  0 1 2 2 2 0 1 1 1 1 ...\n",
      " $ B3  : int  1 1 0 1 1 0 1 0 1 1 ...\n",
      " $ H6  : int  1 0 0 1 0 0 0 0 1 0 ...\n"
     ]
    }
   ],
   "source": [
    "str(df)"
   ]
  },
  {
   "cell_type": "code",
   "execution_count": 40,
   "metadata": {},
   "outputs": [
    {
     "name": "stdout",
     "output_type": "stream",
     "text": [
      " num [1:8000, 1:270] 0 1 1 0 1 1 1 1 1 0 ...\n",
      " - attr(*, \"dimnames\")=List of 2\n",
      "  ..$ iterations: NULL\n",
      "  ..$           : NULL\n"
     ]
    }
   ],
   "source": [
    "str(post$y_sim)"
   ]
  },
  {
   "cell_type": "markdown",
   "metadata": {},
   "source": [
    "Need to transpose y_sim"
   ]
  },
  {
   "cell_type": "code",
   "execution_count": 50,
   "metadata": {
    "collapsed": true
   },
   "outputs": [],
   "source": [
    "kk <- data.frame(t(post$y_sim))"
   ]
  },
  {
   "cell_type": "code",
   "execution_count": 51,
   "metadata": {
    "scrolled": true
   },
   "outputs": [
    {
     "name": "stdout",
     "output_type": "stream",
     "text": [
      "'data.frame':\t270 obs. of  8000 variables:\n",
      " $ X1   : num  0 0 0 1 0 0 0 0 0 0 ...\n",
      " $ X2   : num  1 0 0 1 0 0 0 1 0 0 ...\n",
      " $ X3   : num  1 0 0 1 0 0 0 0 1 0 ...\n",
      " $ X4   : num  0 1 0 1 0 0 0 0 0 0 ...\n",
      " $ X5   : num  1 0 0 1 0 0 0 0 0 0 ...\n",
      " $ X6   : num  1 0 0 1 0 0 0 0 0 0 ...\n",
      " $ X7   : num  1 0 0 1 0 0 1 0 0 1 ...\n",
      " $ X8   : num  1 1 0 1 0 0 0 1 0 0 ...\n",
      " $ X9   : num  1 1 0 1 0 0 0 0 0 0 ...\n",
      " $ X10  : num  0 0 0 0 0 0 0 0 0 0 ...\n",
      " $ X11  : num  1 0 0 1 1 0 1 0 0 0 ...\n",
      " $ X12  : num  1 0 0 1 1 0 0 1 0 0 ...\n",
      " $ X13  : num  1 1 0 1 0 0 0 0 0 0 ...\n",
      " $ X14  : num  0 0 0 1 0 0 0 0 0 0 ...\n",
      " $ X15  : num  1 1 0 1 0 0 0 1 0 0 ...\n",
      " $ X16  : num  1 1 0 1 0 0 0 0 0 0 ...\n",
      " $ X17  : num  0 0 0 1 0 1 0 0 0 0 ...\n",
      " $ X18  : num  1 0 0 1 0 0 0 1 1 0 ...\n",
      " $ X19  : num  1 1 0 1 1 0 0 0 0 0 ...\n",
      " $ X20  : num  0 0 0 1 0 0 0 0 0 0 ...\n",
      " $ X21  : num  1 1 0 1 0 0 0 0 0 0 ...\n",
      " $ X22  : num  0 1 0 1 0 0 0 0 0 1 ...\n",
      " $ X23  : num  1 0 0 1 0 0 0 0 0 0 ...\n",
      " $ X24  : num  1 0 0 1 0 0 0 1 0 0 ...\n",
      " $ X25  : num  1 0 0 1 0 0 0 0 0 0 ...\n",
      " $ X26  : num  1 0 0 0 0 1 0 0 1 0 ...\n",
      " $ X27  : num  1 0 0 1 0 0 0 0 0 0 ...\n",
      " $ X28  : num  1 0 0 1 0 0 0 0 0 0 ...\n",
      " $ X29  : num  1 0 0 1 0 0 0 0 0 0 ...\n",
      " $ X30  : num  0 0 0 1 1 0 1 0 1 0 ...\n",
      " $ X31  : num  1 0 0 1 0 0 0 0 0 0 ...\n",
      " $ X32  : num  1 0 0 1 0 0 0 0 0 0 ...\n",
      " $ X33  : num  1 1 0 1 0 0 0 0 0 0 ...\n",
      " $ X34  : num  1 0 0 1 0 0 0 0 0 0 ...\n",
      " $ X35  : num  1 0 1 1 0 0 1 0 0 0 ...\n",
      " $ X36  : num  1 1 0 1 0 0 0 0 0 0 ...\n",
      " $ X37  : num  1 0 1 1 0 0 0 0 0 0 ...\n",
      " $ X38  : num  1 0 0 1 1 0 1 0 1 0 ...\n",
      " $ X39  : num  1 0 0 1 0 0 0 0 0 0 ...\n",
      " $ X40  : num  1 1 0 1 0 0 0 1 0 0 ...\n",
      " $ X41  : num  1 0 0 1 0 0 0 0 0 0 ...\n",
      " $ X42  : num  1 0 0 1 1 0 1 0 0 1 ...\n",
      " $ X43  : num  1 0 0 0 0 0 0 0 0 0 ...\n",
      " $ X44  : num  0 1 0 1 0 0 0 0 0 0 ...\n",
      " $ X45  : num  1 1 0 1 0 0 0 0 0 0 ...\n",
      " $ X46  : num  1 0 0 1 0 0 0 0 0 0 ...\n",
      " $ X47  : num  1 0 0 1 0 0 0 0 1 0 ...\n",
      " $ X48  : num  1 1 0 1 0 0 0 0 1 0 ...\n",
      " $ X49  : num  1 0 0 1 0 0 0 0 0 0 ...\n",
      " $ X50  : num  1 0 0 1 0 0 0 0 1 0 ...\n",
      " $ X51  : num  1 0 0 0 0 0 0 0 0 0 ...\n",
      " $ X52  : num  1 0 0 0 0 0 0 0 0 0 ...\n",
      " $ X53  : num  1 0 0 1 0 0 0 1 0 0 ...\n",
      " $ X54  : num  1 0 0 0 0 0 0 0 0 0 ...\n",
      " $ X55  : num  1 0 0 1 0 0 1 0 0 0 ...\n",
      " $ X56  : num  1 1 0 1 0 1 0 0 0 0 ...\n",
      " $ X57  : num  0 1 0 1 0 0 1 1 0 0 ...\n",
      " $ X58  : num  1 1 0 1 0 0 0 0 0 0 ...\n",
      " $ X59  : num  0 0 1 1 0 0 1 1 0 0 ...\n",
      " $ X60  : num  1 0 0 1 0 0 1 0 1 1 ...\n",
      " $ X61  : num  1 1 0 0 1 0 0 0 1 0 ...\n",
      " $ X62  : num  1 0 0 1 0 0 0 0 0 0 ...\n",
      " $ X63  : num  1 0 0 1 0 0 0 0 0 0 ...\n",
      " $ X64  : num  1 0 0 1 1 1 0 0 0 0 ...\n",
      " $ X65  : num  1 1 0 1 0 0 0 0 0 0 ...\n",
      " $ X66  : num  1 0 0 1 0 0 1 0 0 0 ...\n",
      " $ X67  : num  1 0 0 1 0 1 0 0 1 0 ...\n",
      " $ X68  : num  0 0 0 1 0 0 0 0 0 0 ...\n",
      " $ X69  : num  1 0 0 1 0 0 0 1 0 0 ...\n",
      " $ X70  : num  1 0 0 1 0 0 0 0 0 0 ...\n",
      " $ X71  : num  1 0 0 1 0 0 0 0 0 0 ...\n",
      " $ X72  : num  1 0 0 1 0 0 0 1 0 0 ...\n",
      " $ X73  : num  1 1 0 1 0 0 0 1 0 0 ...\n",
      " $ X74  : num  0 1 0 1 0 0 0 0 1 0 ...\n",
      " $ X75  : num  0 0 0 0 0 0 0 0 0 0 ...\n",
      " $ X76  : num  1 0 0 1 0 0 0 0 1 1 ...\n",
      " $ X77  : num  1 1 0 0 0 0 0 0 0 0 ...\n",
      " $ X78  : num  1 0 0 1 0 0 0 0 0 0 ...\n",
      " $ X79  : num  1 1 0 1 0 0 0 0 0 0 ...\n",
      " $ X80  : num  1 0 0 1 0 0 0 0 0 0 ...\n",
      " $ X81  : num  1 1 0 1 0 0 0 0 0 0 ...\n",
      " $ X82  : num  1 0 0 1 0 0 0 0 0 0 ...\n",
      " $ X83  : num  1 1 1 0 0 0 0 0 0 0 ...\n",
      " $ X84  : num  1 0 0 1 0 0 1 0 0 0 ...\n",
      " $ X85  : num  1 0 0 1 1 0 0 1 0 1 ...\n",
      " $ X86  : num  1 1 0 1 0 0 1 1 0 1 ...\n",
      " $ X87  : num  1 0 0 1 0 0 0 0 1 0 ...\n",
      " $ X88  : num  1 0 0 0 0 0 0 0 0 0 ...\n",
      " $ X89  : num  1 0 0 1 0 0 0 0 0 0 ...\n",
      " $ X90  : num  1 0 0 0 1 0 0 0 0 1 ...\n",
      " $ X91  : num  1 0 0 1 1 0 0 0 0 0 ...\n",
      " $ X92  : num  1 0 0 1 0 0 0 0 0 1 ...\n",
      " $ X93  : num  1 0 0 1 0 0 0 0 0 0 ...\n",
      " $ X94  : num  1 0 0 1 0 0 0 0 0 0 ...\n",
      " $ X95  : num  1 0 1 1 0 0 0 1 0 0 ...\n",
      " $ X96  : num  1 0 1 1 0 0 0 0 0 0 ...\n",
      " $ X97  : num  1 0 0 0 0 0 0 0 0 0 ...\n",
      " $ X98  : num  1 1 0 0 0 0 0 0 0 0 ...\n",
      " $ X99  : num  1 0 0 1 0 0 0 0 0 0 ...\n",
      "  [list output truncated]\n"
     ]
    }
   ],
   "source": [
    "str(kk)"
   ]
  },
  {
   "cell_type": "code",
   "execution_count": 52,
   "metadata": {
    "collapsed": true
   },
   "outputs": [],
   "source": [
    "kk$JLSA <- df$JLSA"
   ]
  },
  {
   "cell_type": "code",
   "execution_count": 54,
   "metadata": {},
   "outputs": [
    {
     "data": {
      "text/html": [
       "<table>\n",
       "<thead><tr><th></th><th scope=col>X1</th><th scope=col>X2</th><th scope=col>X3</th><th scope=col>X4</th><th scope=col>X5</th><th scope=col>X6</th><th scope=col>X7</th><th scope=col>X8</th><th scope=col>X9</th><th scope=col>X10</th><th scope=col>⋯</th><th scope=col>X7992</th><th scope=col>X7993</th><th scope=col>X7994</th><th scope=col>X7995</th><th scope=col>X7996</th><th scope=col>X7997</th><th scope=col>X7998</th><th scope=col>X7999</th><th scope=col>X8000</th><th scope=col>JLSA</th></tr></thead>\n",
       "<tbody>\n",
       "\t<tr><th scope=row>265</th><td>1                      </td><td>1                      </td><td>0                      </td><td>0                      </td><td>1                      </td><td>1                      </td><td>1                      </td><td>1                      </td><td>0                      </td><td>0                      </td><td>⋯                      </td><td>1                      </td><td>1                      </td><td>1                      </td><td>1                      </td><td>1                      </td><td>1                      </td><td>0                      </td><td>1                      </td><td>1                      </td><td>Navolato Sur           </td></tr>\n",
       "\t<tr><th scope=row>266</th><td>1                      </td><td>1                      </td><td>1                      </td><td>1                      </td><td>1                      </td><td>1                      </td><td>0                      </td><td>1                      </td><td>0                      </td><td>0                      </td><td>⋯                      </td><td>1                      </td><td>1                      </td><td>1                      </td><td>1                      </td><td>0                      </td><td>1                      </td><td>1                      </td><td>1                      </td><td>1                      </td><td>Navolato Sur           </td></tr>\n",
       "\t<tr><th scope=row>267</th><td>0                      </td><td>1                      </td><td>1                      </td><td>1                      </td><td>1                      </td><td>1                      </td><td>1                      </td><td>1                      </td><td>0                      </td><td>1                      </td><td>⋯                      </td><td>1                      </td><td>1                      </td><td>1                      </td><td>1                      </td><td>1                      </td><td>1                      </td><td>1                      </td><td>1                      </td><td>1                      </td><td>Navolato Sur           </td></tr>\n",
       "\t<tr><th scope=row>268</th><td>1                      </td><td>1                      </td><td>1                      </td><td>1                      </td><td>0                      </td><td>1                      </td><td>1                      </td><td>1                      </td><td>0                      </td><td>1                      </td><td>⋯                      </td><td>1                      </td><td>1                      </td><td>1                      </td><td>1                      </td><td>0                      </td><td>1                      </td><td>1                      </td><td>1                      </td><td>0                      </td><td>Navolato Sur           </td></tr>\n",
       "\t<tr><th scope=row>269</th><td>1                      </td><td>1                      </td><td>0                      </td><td>0                      </td><td>1                      </td><td>0                      </td><td>1                      </td><td>1                      </td><td>0                      </td><td>0                      </td><td>⋯                      </td><td>1                      </td><td>1                      </td><td>1                      </td><td>1                      </td><td>0                      </td><td>0                      </td><td>0                      </td><td>0                      </td><td>0                      </td><td>Navolato Sur           </td></tr>\n",
       "\t<tr><th scope=row>270</th><td>0                            </td><td>0                            </td><td>0                            </td><td>1                            </td><td>0                            </td><td>0                            </td><td>0                            </td><td>0                            </td><td>1                            </td><td>0                            </td><td>⋯                            </td><td>0                            </td><td>0                            </td><td>0                            </td><td>0                            </td><td>0                            </td><td>0                            </td><td>0                            </td><td>0                            </td><td>0                            </td><td>Mazatl&lt;e0&gt;n-San Ignacio</td></tr>\n",
       "</tbody>\n",
       "</table>\n"
      ],
      "text/latex": [
       "\\begin{tabular}{r|lllllllllllllllllllllllllllllllllllllllllllllllllllllllllllllllllllllllllllllllllllllllllllllllllllllllllllllllllllllllllllllllllllllllllllllllllllllllllllllllllllllllllllllllllllllllllllllllllllllllllllllllllllllllllllllllllllllllllllllllllllllllllllllllllllllllllllllllllllllllllllllllllllllllllllllllllllllllllllllllllllllllllllllllllllllllllllllllllllllllllllllllllllllllllllllllllllllllllllllllllllllllllllllllllllllllllllllllllllllllllllllllllllllllllllllllllllllllllllllllllllllllllllllllllllllllllllllllllllllllllllllllllllllllllllllllllllllllllllllllllllllllllllllllllllllllllllllllllllllllllllllllllllllllllllllllllllllllllllllllllllllllllllllllllllllllllllllllllllllllllllllllllllllllllllllllllllllllllllllllllllllllllllllllllllllllllllllllllllllllllllllllllllllllllllllllllllllllllllllllllllllllllllllllllllllllllllllllllllllllllllllllllllllllllllllllllllllllllllllllllllllllllllllllllllllllllllllllllllllllllllllllllllllllllllllllllllllllllllllllllllllllllllllllllllllllllllllllllllllllllllllllllllllllllllllllllllllllllllllllllllllllllllllllllllllllllllllllllllllllllllllllllllllllllllllllllllllllllllllllllllllllllllllllllllllllllllllllllllllllllllllllllllllllllllllllllllllllllllllllllllllllllllllllllllllllllllllllllllllllllllllllllllllllllllllllllllllllllllllllllllllllllllllllllllllllllllllllllllllllllllllllllllllllllllllllllllllllllllllllllllllllllllllllllllllllllllllllllllllllllllllllllllllllllllllllllllllllllllllllllllllllllllllllllllllllllllllllllllllllllllllllllllllllllllllllllllllllllllllllllllllllllllllllllllllllllllllllllllllllllllllllllllllllllllllllllllllllllllllllllllllllllllllllllllllllllllllllllllllllllllllllllllllllllllllllllllllllllllllllllllllllllllllllllllllllllllllllllllllllllllllllllllllllllllllllllllllllllllllllllllllllllllllllllllllllllllllllllllllllllllllllllllllllllllllllllllllllllllllllllllllllllllllllllllllllllllllllllllllllllllllllllllllllllllllllllllllllllllllllllllllllllllllllllllllllllllllllllllllllllllllllllllllllllllllllllllllllllllllllllllllllllllllllllllllllllllllllllllllllllllllllllllllllllllllllllllllllllllllllllllllllllllllllllllllllllllllllllllllllllllllllllllllllllllllllllllllllllllllllllllllllllllllllllllllllllllllllllllllllllllllllllllllllllllllllllllllllllllllllllllllllllllllllllllllllllllllllllllllllllllllllllllllllllllllllllllllllllllllllllllllllllllllllllllllllllllllllllllllllllllllllllllllllllllllllllllllllllllllllllllllllllllllllllllllllllllllllllllllllllllllllllllllllllllllllllllllllllllllllllllllllllllllllllllllllllllllllllllllllllllllllllllllllllllllllllllllllllllllllllllllllllllllllllllllllllllllllllllllllllllllllllllllllllllllllllllllllllllllllllllllllllllllllllllllllllllllllllllllllllllllllllllllllllllllllllllllllllllllllllllllllllllllllllllllllllllllllllllllllllllllllllllllllllllllllllllllllllllllllllllllllllllllllllllllllllllllllllllllllllllllllllllllllllllllllllllllllllllllllllllllllllllllllllllllllllllllllllllllllllllllllllllllllllllllllllllllllllllllllllllllllllllllllllllllllllllllllllllllllllllllllllllllllllllllllllllllllllllllllllllllllllllllllllllllllllllllllllllllllllllllllllllllllllllllllllllllllllllllllllllllllllllllllllllllllllllllllllllllllllllllllllllllllllllllllllllllllllllllllllllllllllllllllllllllllllllllllllllllllllllllllllllllllllllllllllllllllllllllllllllllllllllllllllllllllllllllllllllllllllllllllllllllllllllllllllllllllllllllllllllllllllllllllllllllllllllllllllllllllllllllllllllllllllllllllllllllllllllllllllllllllllllllllllllllllllllllllllllllllllllllllllllllllllllllllllllllllllllllllllllllllllllllllllllllllllllllllllllllllllllllllllllllllllllllllllllllllllllllllllllllllllllllllllllllllllllllllllllllllllllllllllllllllllllllllllllllllllllllllllllllllllllllllllllllllllllllllllllllllllllllllllllllllllllllllllllllllllllllllllllllllllllllllllllllllllllllllllllllllllllllllllllllllllllllllllllllllllllllllllllllllllllllllllllllllllllllllllllllllllllllllllllllllllllllllllllllllllllllllllllllllllllllllllllllllllllllllllllllllllllllllllllllllllllllllllllllllllllllllllllllllllllllllllllllllllllllllllllllllllllllllllllllllllllllllllllllllllllllllllllllllllllllllllllllllllllllllllllllllllllllllllllllllllllllllllllllllllllllllllllllllllllllllllllllllllllllllllllllllllllllllllllllllllllllllllllllllllllllllllllllllllllllllllllllllllllllllllllllllllllllllllllllllllllllllllllllllllllllllllllllllllllllllllllllllllllllllllllllllllllllllllllllllllllllllllllllllllllllllllllllllllllllllllllllllllllllllllllllllllllllllllllllllllllllllllllllllllllllllllllllllllllllllllllllllllllllllllllllllllllllllllllllllllllllllllllllllllllllllllllllllllllllllllllllllllllllllllllllllllllllllllllllllllllllllllllllllllllllllllllllllllllllllllllllllllllllllllllllllllllllllllllllllllllllllllllllllllllllllllllllllllllllllllllllllllllllllllllllllllllllllllllllllllllllllllllllllllllllllllllllllllllllllllllllllllllllllllllllllllllllllllllllllllllllllllllllllllllllllllllllllllllllllllllllllllllllllllllllllllllllllllllllllllllllllllllllllllllllllllllllllllllllllllllllllllllllllllllllllllllllllllllllllllllllllllllllllllllllllllllllllllllllllllllllllllllllllllllllllllllllllllllllllllllllllllllllllllllllllllllllllllllllllllllllllllllllllllllllllllllllllllllllllllllllllllllllllllllllllllllllllllllllllllllllllllllllllllllllllllllllllllllllllllllllllllllllllllllllllllllllllllllllllllllllllllllllllllllllllllllllllllllllllllllllllllllllllllllllllllllllllllllllllllllllllllllllllllllllllllllllllllllllllllllllllllllllllllllllllllllllllllllllllllllllllllllllllllllllllllllllllllllllllllllllllllllllllllllllllllllllllllllllllllllllllllllllllllllllllllllllllllllllllllllllllllllllllllllllllllllllllllllllllllllllllllllllllllllllllllllllllllllllllllllllllllllllllllllllllllllllllllllllllllllllllllllllllllllllllllllllllllllllllllllllllllllllllllllllllllllllllllllllllllllllllllllllllllllllllllllllllllllllllllllllllllllllllllllllllllllllllllllllllllllllllllllllllllllllllllllllllllllllllllllllllllllllllllllllllllllllllllllllllllllllllllllllllllllllllllllllllllllllllllllllllllllllllllllllllllllllllllllllllllllllllllllllllllllllllllllllllllllllllllllllllllllllllllllllllllllllllllllllllllllllllllllllllllllllllllllllllllllllllllllllllllllllllllllllllllllllllllllllllllllllllllllllllllllllllllllllllllllllllllllllllllllllllllllllllllllllllllllllllllllllllllllllllllllllllllllllllllllllllllllllllllllllllllllllllllllllllllllllllllllllllllllllllllllllllllllllllllllllllllllllllllllllllllllllllllllllllllllllllllllllllllllllllllllllllllllllllllllllllllllllllllllllllllllllllllllllllllllllllllllllllllllllllllllllllllllllllllllllllllllllllllllllllllllllllllllllllllllllllllllllllllllllllllllllllllllllllllllllllllllllllllllllllllllllllllllllllllllllllllllllllllllllllllllllllllllllllllllllllllllllllllllllllllllllllllllllllllllllllllllllllllllllllllllllllllllllllllllllllllllllllllllllllllllllllllllllllllllllllllllllllllllllllllllllllllllllllllllllllllllllllllllllllllllllllllllllllllllllllllllllllllllllllllllllllllllllllllllllllllllllllllllllllllllllllllllllllllllllllllllllllllllllllllllllllllllllllllllllllllllllllllllllllllllllllllllllllllllllllllllllllllllllllllllllllllllllllllllllllllllllllllllllllllllllllllllllllllllllllllllllllllllllllllllllllllllllllllllllllllllllllllllllllllllllllllllllllllllllllllllllllllllllllllllllllllllllllllllllllllllllllllllllllllllllllllllllllllllllllllllllllllllllllllllllllllllllllllllllllllllllllllllllllllllllllllllllllllllllllllllllllllllllllllllllllllllllllllllllllllllllllllllllllllllllllllllllllllllllllllllllllllllllllllllllllllllllllllllllllllllllllllllllllllllllllllllllllllllllllllllllllllllllllllllllllllllllllllllllllllllllllllllllllllllllllllllllllllllllllllllllllllllllllllllllllllllllllllllllllllllllllllllllllllllllllllllllllllllllllllllllllllllllllllllllllllllllllllllllllllllllllllllllllllllllllllllllllllllllllllllllllllllllllllllllllllllllllllllllllllllllllllllllllllllllllllllllllllllllllllllllllllllllllllllllllllllllllllllllllllllllllllllllllllllllllllllllllllllllllllllllllllllllllllllllllllllllllllllllllllllllllllllllllllllllllll}\n",
       "  & X1 & X2 & X3 & X4 & X5 & X6 & X7 & X8 & X9 & X10 & ⋯ & X7992 & X7993 & X7994 & X7995 & X7996 & X7997 & X7998 & X7999 & X8000 & JLSA\\\\\n",
       "\\hline\n",
       "\t265 & 1                       & 1                       & 0                       & 0                       & 1                       & 1                       & 1                       & 1                       & 0                       & 0                       & ⋯                       & 1                       & 1                       & 1                       & 1                       & 1                       & 1                       & 0                       & 1                       & 1                       & Navolato Sur           \\\\\n",
       "\t266 & 1                       & 1                       & 1                       & 1                       & 1                       & 1                       & 0                       & 1                       & 0                       & 0                       & ⋯                       & 1                       & 1                       & 1                       & 1                       & 0                       & 1                       & 1                       & 1                       & 1                       & Navolato Sur           \\\\\n",
       "\t267 & 0                       & 1                       & 1                       & 1                       & 1                       & 1                       & 1                       & 1                       & 0                       & 1                       & ⋯                       & 1                       & 1                       & 1                       & 1                       & 1                       & 1                       & 1                       & 1                       & 1                       & Navolato Sur           \\\\\n",
       "\t268 & 1                       & 1                       & 1                       & 1                       & 0                       & 1                       & 1                       & 1                       & 0                       & 1                       & ⋯                       & 1                       & 1                       & 1                       & 1                       & 0                       & 1                       & 1                       & 1                       & 0                       & Navolato Sur           \\\\\n",
       "\t269 & 1                       & 1                       & 0                       & 0                       & 1                       & 0                       & 1                       & 1                       & 0                       & 0                       & ⋯                       & 1                       & 1                       & 1                       & 1                       & 0                       & 0                       & 0                       & 0                       & 0                       & Navolato Sur           \\\\\n",
       "\t270 & 0                       & 0                       & 0                       & 1                       & 0                       & 0                       & 0                       & 0                       & 1                       & 0                       & ⋯                       & 0                       & 0                       & 0                       & 0                       & 0                       & 0                       & 0                       & 0                       & 0                       & Mazatl<e0>n-San Ignacio\\\\\n",
       "\\end{tabular}\n"
      ],
      "text/markdown": [
       "\n",
       "| <!--/--> | X1 | X2 | X3 | X4 | X5 | X6 | X7 | X8 | X9 | X10 | ⋯ | X7992 | X7993 | X7994 | X7995 | X7996 | X7997 | X7998 | X7999 | X8000 | JLSA | \n",
       "|---|---|---|---|---|---|\n",
       "| 265 | 1                       | 1                       | 0                       | 0                       | 1                       | 1                       | 1                       | 1                       | 0                       | 0                       | ⋯                       | 1                       | 1                       | 1                       | 1                       | 1                       | 1                       | 0                       | 1                       | 1                       | Navolato Sur            | \n",
       "| 266 | 1                       | 1                       | 1                       | 1                       | 1                       | 1                       | 0                       | 1                       | 0                       | 0                       | ⋯                       | 1                       | 1                       | 1                       | 1                       | 0                       | 1                       | 1                       | 1                       | 1                       | Navolato Sur            | \n",
       "| 267 | 0                       | 1                       | 1                       | 1                       | 1                       | 1                       | 1                       | 1                       | 0                       | 1                       | ⋯                       | 1                       | 1                       | 1                       | 1                       | 1                       | 1                       | 1                       | 1                       | 1                       | Navolato Sur            | \n",
       "| 268 | 1                       | 1                       | 1                       | 1                       | 0                       | 1                       | 1                       | 1                       | 0                       | 1                       | ⋯                       | 1                       | 1                       | 1                       | 1                       | 0                       | 1                       | 1                       | 1                       | 0                       | Navolato Sur            | \n",
       "| 269 | 1                       | 1                       | 0                       | 0                       | 1                       | 0                       | 1                       | 1                       | 0                       | 0                       | ⋯                       | 1                       | 1                       | 1                       | 1                       | 0                       | 0                       | 0                       | 0                       | 0                       | Navolato Sur            | \n",
       "| 270 | 0                       | 0                       | 0                       | 1                       | 0                       | 0                       | 0                       | 0                       | 1                       | 0                       | ⋯                       | 0                       | 0                       | 0                       | 0                       | 0                       | 0                       | 0                       | 0                       | 0                       | Mazatl<e0>n-San Ignacio | \n",
       "\n",
       "\n"
      ],
      "text/plain": [
       "    X1 X2 X3 X4 X5 X6 X7 X8 X9 X10 ⋯ X7992 X7993 X7994 X7995 X7996 X7997 X7998\n",
       "265 1  1  0  0  1  1  1  1  0  0   ⋯ 1     1     1     1     1     1     0    \n",
       "266 1  1  1  1  1  1  0  1  0  0   ⋯ 1     1     1     1     0     1     1    \n",
       "267 0  1  1  1  1  1  1  1  0  1   ⋯ 1     1     1     1     1     1     1    \n",
       "268 1  1  1  1  0  1  1  1  0  1   ⋯ 1     1     1     1     0     1     1    \n",
       "269 1  1  0  0  1  0  1  1  0  0   ⋯ 1     1     1     1     0     0     0    \n",
       "270 0  0  0  1  0  0  0  0  1  0   ⋯ 0     0     0     0     0     0     0    \n",
       "    X7999 X8000 JLSA                   \n",
       "265 1     1     Navolato Sur           \n",
       "266 1     1     Navolato Sur           \n",
       "267 1     1     Navolato Sur           \n",
       "268 1     0     Navolato Sur           \n",
       "269 0     0     Navolato Sur           \n",
       "270 0     0     Mazatl\\xe0n-San Ignacio"
      ]
     },
     "metadata": {},
     "output_type": "display_data"
    }
   ],
   "source": [
    "tail(kk)"
   ]
  },
  {
   "cell_type": "markdown",
   "metadata": {},
   "source": [
    "Group by JLSA and get the mean for each column. This are the prevalences I will be plotting"
   ]
  },
  {
   "cell_type": "code",
   "execution_count": 57,
   "metadata": {
    "collapsed": true
   },
   "outputs": [],
   "source": [
    "sim_by_jlsa <- kk %>% group_by(JLSA)"
   ]
  },
  {
   "cell_type": "code",
   "execution_count": 59,
   "metadata": {
    "collapsed": true
   },
   "outputs": [],
   "source": [
    "sim_prev = sim_by_jlsa %>% summarise_all(funs(mean))"
   ]
  },
  {
   "cell_type": "code",
   "execution_count": 60,
   "metadata": {},
   "outputs": [
    {
     "data": {
      "text/html": [
       "<table>\n",
       "<thead><tr><th scope=col>JLSA</th><th scope=col>X1</th><th scope=col>X2</th><th scope=col>X3</th><th scope=col>X4</th><th scope=col>X5</th><th scope=col>X6</th><th scope=col>X7</th><th scope=col>X8</th><th scope=col>X9</th><th scope=col>⋯</th><th scope=col>X7991</th><th scope=col>X7992</th><th scope=col>X7993</th><th scope=col>X7994</th><th scope=col>X7995</th><th scope=col>X7996</th><th scope=col>X7997</th><th scope=col>X7998</th><th scope=col>X7999</th><th scope=col>X8000</th></tr></thead>\n",
       "<tbody>\n",
       "\t<tr><td>Ahome        </td><td>0.1311475    </td><td>0.1639344    </td><td>0.1639344    </td><td>0.1639344    </td><td>0.1967213    </td><td>0.1639344    </td><td>0.2622951    </td><td>0.1967213    </td><td>0.1967213    </td><td>⋯            </td><td>0.2786885    </td><td>0.1803279    </td><td>0.1475410    </td><td>0.1803279    </td><td>0.09836066   </td><td>0.1311475    </td><td>0.1147541    </td><td>0.3114754    </td><td>0.1475410    </td><td>0.1147541    </td></tr>\n",
       "\t<tr><td>Angostura    </td><td>0.8148148    </td><td>0.7037037    </td><td>0.7777778    </td><td>0.6666667    </td><td>0.9629630    </td><td>0.7407407    </td><td>0.8888889    </td><td>0.8888889    </td><td>0.9629630    </td><td>⋯            </td><td>0.7777778    </td><td>0.7777778    </td><td>0.8888889    </td><td>0.8518519    </td><td>0.70370370   </td><td>0.7407407    </td><td>0.6666667    </td><td>0.7407407    </td><td>0.8518519    </td><td>0.7037037    </td></tr>\n",
       "\t<tr><td>Eldorado     </td><td>0.3714286    </td><td>0.6857143    </td><td>0.5428571    </td><td>0.3714286    </td><td>0.6000000    </td><td>0.4857143    </td><td>0.3142857    </td><td>0.6285714    </td><td>0.5714286    </td><td>⋯            </td><td>0.6571429    </td><td>0.6000000    </td><td>0.5428571    </td><td>0.5142857    </td><td>0.40000000   </td><td>0.4857143    </td><td>0.6285714    </td><td>0.5714286    </td><td>0.6000000    </td><td>0.6571429    </td></tr>\n",
       "\t<tr><td>Escuinapa    </td><td>0.5000000    </td><td>0.2000000    </td><td>0.2000000    </td><td>0.7000000    </td><td>0.5000000    </td><td>0.4000000    </td><td>0.5000000    </td><td>0.7000000    </td><td>0.5000000    </td><td>⋯            </td><td>0.1000000    </td><td>0.2000000    </td><td>0.3000000    </td><td>0.4000000    </td><td>0.40000000   </td><td>0.3000000    </td><td>0.5000000    </td><td>0.3000000    </td><td>0.1000000    </td><td>0.7000000    </td></tr>\n",
       "\t<tr><td>Guasave Norte</td><td>0.9600000    </td><td>0.9600000    </td><td>0.8400000    </td><td>0.8000000    </td><td>0.9600000    </td><td>0.7600000    </td><td>0.8000000    </td><td>0.8400000    </td><td>0.9200000    </td><td>⋯            </td><td>0.6800000    </td><td>0.8400000    </td><td>0.8400000    </td><td>0.6800000    </td><td>0.72000000   </td><td>0.8000000    </td><td>0.8400000    </td><td>0.9600000    </td><td>0.9600000    </td><td>1.0000000    </td></tr>\n",
       "\t<tr><td>Guasave Sur  </td><td>0.7096774    </td><td>0.5806452    </td><td>0.6129032    </td><td>0.4516129    </td><td>0.5483871    </td><td>0.6451613    </td><td>0.7419355    </td><td>0.7741935    </td><td>0.4516129    </td><td>⋯            </td><td>0.7419355    </td><td>0.7419355    </td><td>0.6774194    </td><td>0.6129032    </td><td>0.67741935   </td><td>0.6774194    </td><td>0.7741935    </td><td>0.5806452    </td><td>0.7419355    </td><td>0.7096774    </td></tr>\n",
       "</tbody>\n",
       "</table>\n"
      ],
      "text/latex": [
       "\\begin{tabular}{r|lllllllllllllllllllllllllllllllllllllllllllllllllllllllllllllllllllllllllllllllllllllllllllllllllllllllllllllllllllllllllllllllllllllllllllllllllllllllllllllllllllllllllllllllllllllllllllllllllllllllllllllllllllllllllllllllllllllllllllllllllllllllllllllllllllllllllllllllllllllllllllllllllllllllllllllllllllllllllllllllllllllllllllllllllllllllllllllllllllllllllllllllllllllllllllllllllllllllllllllllllllllllllllllllllllllllllllllllllllllllllllllllllllllllllllllllllllllllllllllllllllllllllllllllllllllllllllllllllllllllllllllllllllllllllllllllllllllllllllllllllllllllllllllllllllllllllllllllllllllllllllllllllllllllllllllllllllllllllllllllllllllllllllllllllllllllllllllllllllllllllllllllllllllllllllllllllllllllllllllllllllllllllllllllllllllllllllllllllllllllllllllllllllllllllllllllllllllllllllllllllllllllllllllllllllllllllllllllllllllllllllllllllllllllllllllllllllllllllllllllllllllllllllllllllllllllllllllllllllllllllllllllllllllllllllllllllllllllllllllllllllllllllllllllllllllllllllllllllllllllllllllllllllllllllllllllllllllllllllllllllllllllllllllllllllllllllllllllllllllllllllllllllllllllllllllllllllllllllllllllllllllllllllllllllllllllllllllllllllllllllllllllllllllllllllllllllllllllllllllllllllllllllllllllllllllllllllllllllllllllllllllllllllllllllllllllllllllllllllllllllllllllllllllllllllllllllllllllllllllllllllllllllllllllllllllllllllllllllllllllllllllllllllllllllllllllllllllllllllllllllllllllllllllllllllllllllllllllllllllllllllllllllllllllllllllllllllllllllllllllllllllllllllllllllllllllllllllllllllllllllllllllllllllllllllllllllllllllllllllllllllllllllllllllllllllllllllllllllllllllllllllllllllllllllllllllllllllllllllllllllllllllllllllllllllllllllllllllllllllllllllllllllllllllllllllllllllllllllllllllllllllllllllllllllllllllllllllllllllllllllllllllllllllllllllllllllllllllllllllllllllllllllllllllllllllllllllllllllllllllllllllllllllllllllllllllllllllllllllllllllllllllllllllllllllllllllllllllllllllllllllllllllllllllllllllllllllllllllllllllllllllllllllllllllllllllllllllllllllllllllllllllllllllllllllllllllllllllllllllllllllllllllllllllllllllllllllllllllllllllllllllllllllllllllllllllllllllllllllllllllllllllllllllllllllllllllllllllllllllllllllllllllllllllllllllllllllllllllllllllllllllllllllllllllllllllllllllllllllllllllllllllllllllllllllllllllllllllllllllllllllllllllllllllllllllllllllllllllllllllllllllllllllllllllllllllllllllllllllllllllllllllllllllllllllllllllllllllllllllllllllllllllllllllllllllllllllllllllllllllllllllllllllllllllllllllllllllllllllllllllllllllllllllllllllllllllllllllllllllllllllllllllllllllllllllllllllllllllllllllllllllllllllllllllllllllllllllllllllllllllllllllllllllllllllllllllllllllllllllllllllllllllllllllllllllllllllllllllllllllllllllllllllllllllllllllllllllllllllllllllllllllllllllllllllllllllllllllllllllllllllllllllllllllllllllllllllllllllllllllllllllllllllllllllllllllllllllllllllllllllllllllllllllllllllllllllllllllllllllllllllllllllllllllllllllllllllllllllllllllllllllllllllllllllllllllllllllllllllllllllllllllllllllllllllllllllllllllllllllllllllllllllllllllllllllllllllllllllllllllllllllllllllllllllllllllllllllllllllllllllllllllllllllllllllllllllllllllllllllllllllllllllllllllllllllllllllllllllllllllllllllllllllllllllllllllllllllllllllllllllllllllllllllllllllllllllllllllllllllllllllllllllllllllllllllllllllllllllllllllllllllllllllllllllllllllllllllllllllllllllllllllllllllllllllllllllllllllllllllllllllllllllllllllllllllllllllllllllllllllllllllllllllllllllllllllllllllllllllllllllllllllllllllllllllllllllllllllllllllllllllllllllllllllllllllllllllllllllllllllllllllllllllllllllllllllllllllllllllllllllllllllllllllllllllllllllllllllllllllllllllllllllllllllllllllllllllllllllllllllllllllllllllllllllllllllllllllllllllllllllllllllllllllllllllllllllllllllllllllllllllllllllllllllllllllllllllllllllllllllllllllllllllllllllllllllllllllllllllllllllllllllllllllllllllllllllllllllllllllllllllllllllllllllllllllllllllllllllllllllllllllllllllllllllllllllllllllllllllllllllllllllllllllllllllllllllllllllllllllllllllllllllllllllllllllllllllllllllllllllllllllllllllllllllllllllllllllllllllllllllllllllllllllllllllllllllllllllllllllllllllllllllllllllllllllllllllllllllllllllllllllllllllllllllllllllllllllllllllllllllllllllllllllllllllllllllllllllllllllllllllllllllllllllllllllllllllllllllllllllllllllllllllllllllllllllllllllllllllllllllllllllllllllllllllllllllllllllllllllllllllllllllllllllllllllllllllllllllllllllllllllllllllllllllllllllllllllllllllllllllllllllllllllllllllllllllllllllllllllllllllllllllllllllllllllllllllllllllllllllllllllllllllllllllllllllllllllllllllllllllllllllllllllllllllllllllllllllllllllllllllllllllllllllllllllllllllllllllllllllllllllllllllllllllllllllllllllllllllllllllllllllllllllllllllllllllllllllllllllllllllllllllllllllllllllllllllllllllllllllllllllllllllllllllllllllllllllllllllllllllllllllllllllllllllllllllllllllllllllllllllllllllllllllllllllllllllllllllllllllllllllllllllllllllllllllllllllllllllllllllllllllllllllllllllllllllllllllllllllllllllllllllllllllllllllllllllllllllllllllllllllllllllllllllllllllllllllllllllllllllllllllllllllllllllllllllllllllllllllllllllllllllllllllllllllllllllllllllllllllllllllllllllllllllllllllllllllllllllllllllllllllllllllllllllllllllllllllllllllllllllllllllllllllllllllllllllllllllllllllllllllllllllllllllllllllllllllllllllllllllllllllllllllllllllllllllllllllllllllllllllllllllllllllllllllllllllllllllllllllllllllllllllllllllllllllllllllllllllllllllllllllllllllllllllllllllllllllllllllllllllllllllllllllllllllllllllllllllllllllllllllllllllllllllllllllllllllllllllllllllllllllllllllllllllllllllllllllllllllllllllllllllllllllllllllllllllllllllllllllllllllllllllllllllllllllllllllllllllllllllllllllllllllllllllllllllllllllllllllllllllllllllllllllllllllllllllllllllllllllllllllllllllllllllllllllllllllllllllllllllllllllllllllllllllllllllllllllllllllllllllllllllllllllllllllllllllllllllllllllllllllllllllllllllllllllllllllllllllllllllllllllllllllllllllllllllllllllllllllllllllllllllllllllllllllllllllllllllllllllllllllllllllllllllllllllllllllllllllllllllllllllllllllllllllllllllllllllllllllllllllllllllllllllllllllllllllllllllllllllllllllllllllllllllllllllllllllllllllllllllllllllllllllllllllllllllllllllllllllllllllllllllllllllllllllllllllllllllllllllllllllllllllllllllllllllllllllllllllllllllllllllllllllllllllllllllllllllllllllllllllllllllllllllllllllllllllllllllllllllllllllllllllllllllllllllllllllllllllllllllllllllllllllllllllllllllllllllllllllllllllllllllllllllllllllllllllllllllllllllllllllllllllllllllllllllllllllllllllllllllllllllllllllllllllllllllllllllllllllllllllllllllllllllllllllllllllllllllllllllllllllllllllllllllllllllllllllllllllllllllllllllllllllllllllllllllllllllllllllllllllllllllllllllllllllllllllllllllllllllllllllllllllllllllllllllllllllllllllllllllllllllllllllllllllllllllllllllllllllllllllllllllllllllllllllllllllllllllllllllllllllllllllllllllllllllllllllllllllllllllllllllllllllllllllllllllllllllllllllllllllllllllllllllllllllllllllllllllllllllllllllllllllllllllllllllllllllllllllllllllllllllllllllllllllllllllllllllllllllllllllllllllllllllllllllllllllllllllllllllllllllllllllllllllllllllllllllllllllllllllllllllllllllllllllllllllllllllllllllllllllllllllllllllllllllllllllllllllllllllllllllllllllllllllllllllllllllllllllllllllllllllllllllllllllllllllllllllllllllllllllllllllllllllllllllllllllllllllllllllllllllllllllllllllllllllllllllllllllllllllllllllllllllllllllllllllllllllllllllllllllllllllllllllllllllllllllllllllllllllllllllllllllllllllllllllllllllllllllllllllllllllllllllllllllllllllllllllllllllllllllllllllllllllllllllllllllllllllllllllllllllllllllllllllllllllllllllllllllllllllllllllllllllllllllllllllllllllllllllllllllllllllllllllllllllllllllllllllllllllllllllllllllllllllllllllllllllllllllllllllllllllllllllllllllllllllllllllllllllllllllllllllllllllllllllllllllllllllllllllllllllllllllllllllllllllllllllllllllllllllllllllllllllllllllllllllllllllllllllllllllllllllllllllllllllllllllllllllllllllllllllllllllllllllllllllllllllllllllllllllllllllllllllllllllllllllllllllllllllllllllllllllllllllllllllllllllllllllllllllllllllllllllllllllllllllllllllllllllllllll}\n",
       " JLSA & X1 & X2 & X3 & X4 & X5 & X6 & X7 & X8 & X9 & ⋯ & X7991 & X7992 & X7993 & X7994 & X7995 & X7996 & X7997 & X7998 & X7999 & X8000\\\\\n",
       "\\hline\n",
       "\t Ahome         & 0.1311475     & 0.1639344     & 0.1639344     & 0.1639344     & 0.1967213     & 0.1639344     & 0.2622951     & 0.1967213     & 0.1967213     & ⋯             & 0.2786885     & 0.1803279     & 0.1475410     & 0.1803279     & 0.09836066    & 0.1311475     & 0.1147541     & 0.3114754     & 0.1475410     & 0.1147541    \\\\\n",
       "\t Angostura     & 0.8148148     & 0.7037037     & 0.7777778     & 0.6666667     & 0.9629630     & 0.7407407     & 0.8888889     & 0.8888889     & 0.9629630     & ⋯             & 0.7777778     & 0.7777778     & 0.8888889     & 0.8518519     & 0.70370370    & 0.7407407     & 0.6666667     & 0.7407407     & 0.8518519     & 0.7037037    \\\\\n",
       "\t Eldorado      & 0.3714286     & 0.6857143     & 0.5428571     & 0.3714286     & 0.6000000     & 0.4857143     & 0.3142857     & 0.6285714     & 0.5714286     & ⋯             & 0.6571429     & 0.6000000     & 0.5428571     & 0.5142857     & 0.40000000    & 0.4857143     & 0.6285714     & 0.5714286     & 0.6000000     & 0.6571429    \\\\\n",
       "\t Escuinapa     & 0.5000000     & 0.2000000     & 0.2000000     & 0.7000000     & 0.5000000     & 0.4000000     & 0.5000000     & 0.7000000     & 0.5000000     & ⋯             & 0.1000000     & 0.2000000     & 0.3000000     & 0.4000000     & 0.40000000    & 0.3000000     & 0.5000000     & 0.3000000     & 0.1000000     & 0.7000000    \\\\\n",
       "\t Guasave Norte & 0.9600000     & 0.9600000     & 0.8400000     & 0.8000000     & 0.9600000     & 0.7600000     & 0.8000000     & 0.8400000     & 0.9200000     & ⋯             & 0.6800000     & 0.8400000     & 0.8400000     & 0.6800000     & 0.72000000    & 0.8000000     & 0.8400000     & 0.9600000     & 0.9600000     & 1.0000000    \\\\\n",
       "\t Guasave Sur   & 0.7096774     & 0.5806452     & 0.6129032     & 0.4516129     & 0.5483871     & 0.6451613     & 0.7419355     & 0.7741935     & 0.4516129     & ⋯             & 0.7419355     & 0.7419355     & 0.6774194     & 0.6129032     & 0.67741935    & 0.6774194     & 0.7741935     & 0.5806452     & 0.7419355     & 0.7096774    \\\\\n",
       "\\end{tabular}\n"
      ],
      "text/markdown": [
       "\n",
       "JLSA | X1 | X2 | X3 | X4 | X5 | X6 | X7 | X8 | X9 | ⋯ | X7991 | X7992 | X7993 | X7994 | X7995 | X7996 | X7997 | X7998 | X7999 | X8000 | \n",
       "|---|---|---|---|---|---|\n",
       "| Ahome         | 0.1311475     | 0.1639344     | 0.1639344     | 0.1639344     | 0.1967213     | 0.1639344     | 0.2622951     | 0.1967213     | 0.1967213     | ⋯             | 0.2786885     | 0.1803279     | 0.1475410     | 0.1803279     | 0.09836066    | 0.1311475     | 0.1147541     | 0.3114754     | 0.1475410     | 0.1147541     | \n",
       "| Angostura     | 0.8148148     | 0.7037037     | 0.7777778     | 0.6666667     | 0.9629630     | 0.7407407     | 0.8888889     | 0.8888889     | 0.9629630     | ⋯             | 0.7777778     | 0.7777778     | 0.8888889     | 0.8518519     | 0.70370370    | 0.7407407     | 0.6666667     | 0.7407407     | 0.8518519     | 0.7037037     | \n",
       "| Eldorado      | 0.3714286     | 0.6857143     | 0.5428571     | 0.3714286     | 0.6000000     | 0.4857143     | 0.3142857     | 0.6285714     | 0.5714286     | ⋯             | 0.6571429     | 0.6000000     | 0.5428571     | 0.5142857     | 0.40000000    | 0.4857143     | 0.6285714     | 0.5714286     | 0.6000000     | 0.6571429     | \n",
       "| Escuinapa     | 0.5000000     | 0.2000000     | 0.2000000     | 0.7000000     | 0.5000000     | 0.4000000     | 0.5000000     | 0.7000000     | 0.5000000     | ⋯             | 0.1000000     | 0.2000000     | 0.3000000     | 0.4000000     | 0.40000000    | 0.3000000     | 0.5000000     | 0.3000000     | 0.1000000     | 0.7000000     | \n",
       "| Guasave Norte | 0.9600000     | 0.9600000     | 0.8400000     | 0.8000000     | 0.9600000     | 0.7600000     | 0.8000000     | 0.8400000     | 0.9200000     | ⋯             | 0.6800000     | 0.8400000     | 0.8400000     | 0.6800000     | 0.72000000    | 0.8000000     | 0.8400000     | 0.9600000     | 0.9600000     | 1.0000000     | \n",
       "| Guasave Sur   | 0.7096774     | 0.5806452     | 0.6129032     | 0.4516129     | 0.5483871     | 0.6451613     | 0.7419355     | 0.7741935     | 0.4516129     | ⋯             | 0.7419355     | 0.7419355     | 0.6774194     | 0.6129032     | 0.67741935    | 0.6774194     | 0.7741935     | 0.5806452     | 0.7419355     | 0.7096774     | \n",
       "\n",
       "\n"
      ],
      "text/plain": [
       "  JLSA          X1        X2        X3        X4        X5        X6       \n",
       "1 Ahome         0.1311475 0.1639344 0.1639344 0.1639344 0.1967213 0.1639344\n",
       "2 Angostura     0.8148148 0.7037037 0.7777778 0.6666667 0.9629630 0.7407407\n",
       "3 Eldorado      0.3714286 0.6857143 0.5428571 0.3714286 0.6000000 0.4857143\n",
       "4 Escuinapa     0.5000000 0.2000000 0.2000000 0.7000000 0.5000000 0.4000000\n",
       "5 Guasave Norte 0.9600000 0.9600000 0.8400000 0.8000000 0.9600000 0.7600000\n",
       "6 Guasave Sur   0.7096774 0.5806452 0.6129032 0.4516129 0.5483871 0.6451613\n",
       "  X7        X8        X9        ⋯ X7991     X7992     X7993     X7994    \n",
       "1 0.2622951 0.1967213 0.1967213 ⋯ 0.2786885 0.1803279 0.1475410 0.1803279\n",
       "2 0.8888889 0.8888889 0.9629630 ⋯ 0.7777778 0.7777778 0.8888889 0.8518519\n",
       "3 0.3142857 0.6285714 0.5714286 ⋯ 0.6571429 0.6000000 0.5428571 0.5142857\n",
       "4 0.5000000 0.7000000 0.5000000 ⋯ 0.1000000 0.2000000 0.3000000 0.4000000\n",
       "5 0.8000000 0.8400000 0.9200000 ⋯ 0.6800000 0.8400000 0.8400000 0.6800000\n",
       "6 0.7419355 0.7741935 0.4516129 ⋯ 0.7419355 0.7419355 0.6774194 0.6129032\n",
       "  X7995      X7996     X7997     X7998     X7999     X8000    \n",
       "1 0.09836066 0.1311475 0.1147541 0.3114754 0.1475410 0.1147541\n",
       "2 0.70370370 0.7407407 0.6666667 0.7407407 0.8518519 0.7037037\n",
       "3 0.40000000 0.4857143 0.6285714 0.5714286 0.6000000 0.6571429\n",
       "4 0.40000000 0.3000000 0.5000000 0.3000000 0.1000000 0.7000000\n",
       "5 0.72000000 0.8000000 0.8400000 0.9600000 0.9600000 1.0000000\n",
       "6 0.67741935 0.6774194 0.7741935 0.5806452 0.7419355 0.7096774"
      ]
     },
     "metadata": {},
     "output_type": "display_data"
    }
   ],
   "source": [
    "head(sim_prev)"
   ]
  },
  {
   "cell_type": "markdown",
   "metadata": {},
   "source": [
    "Transform to matrix"
   ]
  },
  {
   "cell_type": "code",
   "execution_count": 64,
   "metadata": {
    "collapsed": true
   },
   "outputs": [],
   "source": [
    "sim_matrix <- data.matrix(sim_prev)"
   ]
  },
  {
   "cell_type": "code",
   "execution_count": 65,
   "metadata": {},
   "outputs": [
    {
     "name": "stdout",
     "output_type": "stream",
     "text": [
      " num [1:10, 1:8001] 1 2 3 4 5 6 7 8 9 10 ...\n",
      " - attr(*, \"dimnames\")=List of 2\n",
      "  ..$ : NULL\n",
      "  ..$ : chr [1:8001] \"JLSA\" \"X1\" \"X2\" \"X3\" ...\n"
     ]
    }
   ],
   "source": [
    "str(sim_matrix)"
   ]
  },
  {
   "cell_type": "markdown",
   "metadata": {},
   "source": [
    "Transpose back"
   ]
  },
  {
   "cell_type": "code",
   "execution_count": 76,
   "metadata": {},
   "outputs": [
    {
     "data": {
      "text/html": [
       "<table>\n",
       "<thead><tr><th scope=col>JLSA</th><th scope=col>X1</th><th scope=col>X2</th><th scope=col>X3</th><th scope=col>X4</th><th scope=col>X5</th><th scope=col>X6</th><th scope=col>X7</th><th scope=col>X8</th><th scope=col>X9</th><th scope=col>⋯</th><th scope=col>X7991</th><th scope=col>X7992</th><th scope=col>X7993</th><th scope=col>X7994</th><th scope=col>X7995</th><th scope=col>X7996</th><th scope=col>X7997</th><th scope=col>X7998</th><th scope=col>X7999</th><th scope=col>X8000</th></tr></thead>\n",
       "<tbody>\n",
       "\t<tr><td> 1        </td><td>0.13114754</td><td>0.1639344 </td><td>0.16393443</td><td>0.1639344 </td><td>0.1967213 </td><td>0.1639344 </td><td>0.26229508</td><td>0.19672131</td><td>0.1967213 </td><td>⋯         </td><td>0.27868852</td><td>0.1803279 </td><td>0.14754098</td><td>0.1803279 </td><td>0.09836066</td><td>0.1311475 </td><td>0.1147541 </td><td>0.31147541</td><td>0.1475410 </td><td>0.11475410</td></tr>\n",
       "\t<tr><td> 2        </td><td>0.81481481</td><td>0.7037037 </td><td>0.77777778</td><td>0.6666667 </td><td>0.9629630 </td><td>0.7407407 </td><td>0.88888889</td><td>0.88888889</td><td>0.9629630 </td><td>⋯         </td><td>0.77777778</td><td>0.7777778 </td><td>0.88888889</td><td>0.8518519 </td><td>0.70370370</td><td>0.7407407 </td><td>0.6666667 </td><td>0.74074074</td><td>0.8518519 </td><td>0.70370370</td></tr>\n",
       "\t<tr><td> 3        </td><td>0.37142857</td><td>0.6857143 </td><td>0.54285714</td><td>0.3714286 </td><td>0.6000000 </td><td>0.4857143 </td><td>0.31428571</td><td>0.62857143</td><td>0.5714286 </td><td>⋯         </td><td>0.65714286</td><td>0.6000000 </td><td>0.54285714</td><td>0.5142857 </td><td>0.40000000</td><td>0.4857143 </td><td>0.6285714 </td><td>0.57142857</td><td>0.6000000 </td><td>0.65714286</td></tr>\n",
       "\t<tr><td> 4        </td><td>0.50000000</td><td>0.2000000 </td><td>0.20000000</td><td>0.7000000 </td><td>0.5000000 </td><td>0.4000000 </td><td>0.50000000</td><td>0.70000000</td><td>0.5000000 </td><td>⋯         </td><td>0.10000000</td><td>0.2000000 </td><td>0.30000000</td><td>0.4000000 </td><td>0.40000000</td><td>0.3000000 </td><td>0.5000000 </td><td>0.30000000</td><td>0.1000000 </td><td>0.70000000</td></tr>\n",
       "\t<tr><td> 5        </td><td>0.96000000</td><td>0.9600000 </td><td>0.84000000</td><td>0.8000000 </td><td>0.9600000 </td><td>0.7600000 </td><td>0.80000000</td><td>0.84000000</td><td>0.9200000 </td><td>⋯         </td><td>0.68000000</td><td>0.8400000 </td><td>0.84000000</td><td>0.6800000 </td><td>0.72000000</td><td>0.8000000 </td><td>0.8400000 </td><td>0.96000000</td><td>0.9600000 </td><td>1.00000000</td></tr>\n",
       "\t<tr><td> 6        </td><td>0.70967742</td><td>0.5806452 </td><td>0.61290323</td><td>0.4516129 </td><td>0.5483871 </td><td>0.6451613 </td><td>0.74193548</td><td>0.77419355</td><td>0.4516129 </td><td>⋯         </td><td>0.74193548</td><td>0.7419355 </td><td>0.67741935</td><td>0.6129032 </td><td>0.67741935</td><td>0.6774194 </td><td>0.7741935 </td><td>0.58064516</td><td>0.7419355 </td><td>0.70967742</td></tr>\n",
       "\t<tr><td> 7        </td><td>0.00000000</td><td>0.1363636 </td><td>0.09090909</td><td>0.1818182 </td><td>0.2727273 </td><td>0.1818182 </td><td>0.09090909</td><td>0.04545455</td><td>0.1363636 </td><td>⋯         </td><td>0.04545455</td><td>0.0000000 </td><td>0.09090909</td><td>0.0000000 </td><td>0.09090909</td><td>0.4090909 </td><td>0.1363636 </td><td>0.09090909</td><td>0.1363636 </td><td>0.00000000</td></tr>\n",
       "\t<tr><td> 8        </td><td>0.50000000</td><td>0.6111111 </td><td>0.77777778</td><td>0.3888889 </td><td>0.7222222 </td><td>0.5555556 </td><td>0.66666667</td><td>0.77777778</td><td>0.6111111 </td><td>⋯         </td><td>0.83333333</td><td>0.6111111 </td><td>0.50000000</td><td>0.5555556 </td><td>0.55555556</td><td>0.7777778 </td><td>0.8333333 </td><td>0.61111111</td><td>0.7777778 </td><td>0.27777778</td></tr>\n",
       "\t<tr><td> 9        </td><td>0.89285714</td><td>0.8571429 </td><td>0.82142857</td><td>0.8214286 </td><td>0.8928571 </td><td>0.7500000 </td><td>0.85714286</td><td>0.96428571</td><td>0.5714286 </td><td>⋯         </td><td>0.71428571</td><td>0.8571429 </td><td>0.92857143</td><td>0.7857143 </td><td>0.85714286</td><td>0.7142857 </td><td>0.9285714 </td><td>0.78571429</td><td>0.9642857 </td><td>0.71428571</td></tr>\n",
       "\t<tr><td>10        </td><td>0.07692308</td><td>0.1538462 </td><td>0.23076923</td><td>0.0000000 </td><td>0.0000000 </td><td>0.1538462 </td><td>0.07692308</td><td>0.38461538</td><td>0.1538462 </td><td>⋯         </td><td>0.07692308</td><td>0.0000000 </td><td>0.23076923</td><td>0.2307692 </td><td>0.00000000</td><td>0.1538462 </td><td>0.2307692 </td><td>0.07692308</td><td>0.2307692 </td><td>0.07692308</td></tr>\n",
       "</tbody>\n",
       "</table>\n"
      ],
      "text/latex": [
       "\\begin{tabular}{lllllllllllllllllllllllllllllllllllllllllllllllllllllllllllllllllllllllllllllllllllllllllllllllllllllllllllllllllllllllllllllllllllllllllllllllllllllllllllllllllllllllllllllllllllllllllllllllllllllllllllllllllllllllllllllllllllllllllllllllllllllllllllllllllllllllllllllllllllllllllllllllllllllllllllllllllllllllllllllllllllllllllllllllllllllllllllllllllllllllllllllllllllllllllllllllllllllllllllllllllllllllllllllllllllllllllllllllllllllllllllllllllllllllllllllllllllllllllllllllllllllllllllllllllllllllllllllllllllllllllllllllllllllllllllllllllllllllllllllllllllllllllllllllllllllllllllllllllllllllllllllllllllllllllllllllllllllllllllllllllllllllllllllllllllllllllllllllllllllllllllllllllllllllllllllllllllllllllllllllllllllllllllllllllllllllllllllllllllllllllllllllllllllllllllllllllllllllllllllllllllllllllllllllllllllllllllllllllllllllllllllllllllllllllllllllllllllllllllllllllllllllllllllllllllllllllllllllllllllllllllllllllllllllllllllllllllllllllllllllllllllllllllllllllllllllllllllllllllllllllllllllllllllllllllllllllllllllllllllllllllllllllllllllllllllllllllllllllllllllllllllllllllllllllllllllllllllllllllllllllllllllllllllllllllllllllllllllllllllllllllllllllllllllllllllllllllllllllllllllllllllllllllllllllllllllllllllllllllllllllllllllllllllllllllllllllllllllllllllllllllllllllllllllllllllllllllllllllllllllllllllllllllllllllllllllllllllllllllllllllllllllllllllllllllllllllllllllllllllllllllllllllllllllllllllllllllllllllllllllllllllllllllllllllllllllllllllllllllllllllllllllllllllllllllllllllllllllllllllllllllllllllllllllllllllllllllllllllllllllllllllllllllllllllllllllllllllllllllllllllllllllllllllllllllllllllllllllllllllllllllllllllllllllllllllllllllllllllllllllllllllllllllllllllllllllllllllllllllllllllllllllllllllllllllllllllllllllllllllllllllllllllllllllllllllllllllllllllllllllllllllllllllllllllllllllllllllllllllllllllllllllllllllllllllllllllllllllllllllllllllllllllllllllllllllllllllllllllllllllllllllllllllllllllllllllllllllllllllllllllllllllllllllllllllllllllllllllllllllllllllllllllllllllllllllllllllllllllllllllllllllllllllllllllllllllllllllllllllllllllllllllllllllllllllllllllllllllllllllllllllllllllllllllllllllllllllllllllllllllllllllllllllllllllllllllllllllllllllllllllllllllllllllllllllllllllllllllllllllllllllllllllllllllllllllllllllllllllllllllllllllllllllllllllllllllllllllllllllllllllllllllllllllllllllllllllllllllllllllllllllllllllllllllllllllllllllllllllllllllllllllllllllllllllllllllllllllllllllllllllllllllllllllllllllllllllllllllllllllllllllllllllllllllllllllllllllllllllllllllllllllllllllllllllllllllllllllllllllllllllllllllllllllllllllllllllllllllllllllllllllllllllllllllllllllllllllllllllllllllllllllllllllllllllllllllllllllllllllllllllllllllllllllllllllllllllllllllllllllllllllllllllllllllllllllllllllllllllllllllllllllllllllllllllllllllllllllllllllllllllllllllllllllllllllllllllllllllllllllllllllllllllllllllllllllllllllllllllllllllllllllllllllllllllllllllllllllllllllllllllllllllllllllllllllllllllllllllllllllllllllllllllllllllllllllllllllllllllllllllllllllllllllllllllllllllllllllllllllllllllllllllllllllllllllllllllllllllllllllllllllllllllllllllllllllllllllllllllllllllllllllllllllllllllllllllllllllllllllllllllllllllllllllllllllllllllllllllllllllllllllllllllllllllllllllllllllllllllllllllllllllllllllllllllllllllllllllllllllllllllllllllllllllllllllllllllllllllllllllllllllllllllllllllllllllllllllllllllllllllllllllllllllllllllllllllllllllllllllllllllllllllllllllllllllllllllllllllllllllllllllllllllllllllllllllllllllllllllllllllllllllllllllllllllllllllllllllllllllllllllllllllllllllllllllllllllllllllllllllllllllllllllllllllllllllllllllllllllllllllllllllllllllllllllllllllllllllllllllllllllllllllllllllllllllllllllllllllllllllllllllllllllllllllllllllllllllllllllllllllllllllllllllllllllllllllllllllllllllllllllllllllllllllllllllllllllllllllllllllllllllllllllllllllllllllllllllllllllllllllllllllllllllllllllllllllllllllllllllllllllllllllllllllllllllllllllllllllllllllllllllllllllllllllllllllllllllllllllllllllllllllllllllllllllllllllllllllllllllllllllllllllllllllllllllllllllllllllllllllllllllllllllllllllllllllllllllllllllllllllllllllllllllllllllllllllllllllllllllllllllllllllllllllllllllllllllllllllllllllllllllllllllllllllllllllllllllllllllllllllllllllllllllllllllllllllllllllllllllllllllllllllllllllllllllllllllllllllllllllllllllllllllllllllllllllllllllllllllllllllllllllllllllllllllllllllllllllllllllllllllllllllllllllllllllllllllllllllllllllllllllllllllllllllllllllllllllllllllllllllllllllllllllllllllllllllllllllllllllllllllllllllllllllllllllllllllllllllllllllllllllllllllllllllllllllllllllllllllllllllllllllllllllllllllllllllllllllllllllllllllllllllllllllllllllllllllllllllllllllllllllllllllllllllllllllllllllllllllllllllllllllllllllllllllllllllllllllllllllllllllllllllllllllllllllllllllllllllllllllllllllllllllllllllllllllllllllllllllllllllllllllllllllllllllllllllllllllllllllllllllllllllllllllllllllllllllllllllllllllllllllllllllllllllllllllllllllllllllllllllllllllllllllllllllllllllllllllllllllllllllllllllllllllllllllllllllllllllllllllllllllllllllllllllllllllllllllllllllllllllllllllllllllllllllllllllllllllllllllllllllllllllllllllllllllllllllllllllllllllllllllllllllllllllllllllllllllllllllllllllllllllllllllllllllllllllllllllllllllllllllllllllllllllllllllllllllllllllllllllllllllllllllllllllllllllllllllllllllllllllllllllllllllllllllllllllllllllllllllllllllllllllllllllllllllllllllllllllllllllllllllllllllllllllllllllllllllllllllllllllllllllllllllllllllllllllllllllllllllllllllllllllllllllllllllllllllllllllllllllllllllllllllllllllllllllllllllllllllllllllllllllllllllllllllllllllllllllllllllllllllllllllllllllllllllllllllllllllllllllllllllllllllllllllllllllllllllllllllllllllllllllllllllllllllllllllllllllllllllllllllllllllllllllllllllllllllllllllllllllllllllllllllllllllllllllllllllllllllllllllllllllllllllllllllllllllllllllllllllllllllllllllllllllllllllllllllllllllllllllllllllllllllllllllllllllllllllllllllllllllllllllllllllllllllllllllllllllllllllllllllllllllllllllllllllllllllllllllllllllllllllllllllllllllllllllllllllllllllllllllllllllllllllllllllllllllllllllllllllllllllllllllllllllllllllllllllllllllllllllllllllllllllllllllllllllllllllllllllllllllllllllllllllllllllllllllllllllllllllllllllllllllllllllllllllllllllllllllllllllllllllllllllllllllllllllllllllllllllllllllllllllllllllllllllllllllllllllllllllllllllllllllllllllllllllllllllllllllllllllllllllllllllllllllllllllllllllllllllllllllllllllllllllllllllllllllllllllllllllllllllllllllllllllllllllllllllllllllllllllllllllllllllllllllllllllllllllllllllllllllllllllllllllllllllllllllllllllllllllllllllllllllllllllllllllllllllllllllllllllllllllllllllllllllllllllllllllllllllllllllllllllllllllllllllllllllllllllllllllllllllllllllllllllllllllllllllllllllllllllllllllllllllllllllllllllllllllllllllllllllllllllllllllllllllllllllllllllllllllllllllllllllllllllllllllllllllllllllllllllllllllllllllllllllllllllllllllllllllllllllllllllllllllllllllllllllllllllllllllllllllllllllllllllllllllllllllllllllllllllllllllllllllllllllllllllllllllllllllllllllllllllllllllllllllllllllllllllllllllllllllllllllllllllllllllllllllllllllllllllllllllllllllllllllllllllllllllllllllllllllllllllllllllllllllllllllllllllllllllllllllllllllllllllllllllllllllllllllllllllllllllllllllllllllllllllllllllllllllllllllllllllllllllllllllllllllllllllllllllllllllllllllllllllllllllllllllllllllllllllllllllllllllllllllllllllllllllllllllllllllllllllllllllllllllllllllllllllllllllllllllllllllllllllllllllllllllllllllllllllllllllllllllllllllllllllllllllllllllllllllllllllllllllllllllllllllllllllllllllllllllllllllllllllllllllllllllllllllllllllllllllllllllllllllllllllllllllllllllllllllllllllllllllllllllllllllllllllllllllllllllllllllllllllllllllllllllllllllllllllllllllllllllllllllllllllllllllllllllllllllllllllllllllllllllllllllllllllllllllllllllllllllllllllllllllllllllllllllllllllllllllllllllllllllllllllllllllllllllllllllllllllllllllllllllllllllllllllllllllllllllllllllllllllllllllllllllllllllllllllllllllllllllllllllllllllllllllllllllllllllllllllllllllllllllllllllllllllllllllllllllllllllllllllllllllllllllllllllllllllllll}\n",
       " JLSA & X1 & X2 & X3 & X4 & X5 & X6 & X7 & X8 & X9 & ⋯ & X7991 & X7992 & X7993 & X7994 & X7995 & X7996 & X7997 & X7998 & X7999 & X8000\\\\\n",
       "\\hline\n",
       "\t  1         & 0.13114754 & 0.1639344  & 0.16393443 & 0.1639344  & 0.1967213  & 0.1639344  & 0.26229508 & 0.19672131 & 0.1967213  & ⋯          & 0.27868852 & 0.1803279  & 0.14754098 & 0.1803279  & 0.09836066 & 0.1311475  & 0.1147541  & 0.31147541 & 0.1475410  & 0.11475410\\\\\n",
       "\t  2         & 0.81481481 & 0.7037037  & 0.77777778 & 0.6666667  & 0.9629630  & 0.7407407  & 0.88888889 & 0.88888889 & 0.9629630  & ⋯          & 0.77777778 & 0.7777778  & 0.88888889 & 0.8518519  & 0.70370370 & 0.7407407  & 0.6666667  & 0.74074074 & 0.8518519  & 0.70370370\\\\\n",
       "\t  3         & 0.37142857 & 0.6857143  & 0.54285714 & 0.3714286  & 0.6000000  & 0.4857143  & 0.31428571 & 0.62857143 & 0.5714286  & ⋯          & 0.65714286 & 0.6000000  & 0.54285714 & 0.5142857  & 0.40000000 & 0.4857143  & 0.6285714  & 0.57142857 & 0.6000000  & 0.65714286\\\\\n",
       "\t  4         & 0.50000000 & 0.2000000  & 0.20000000 & 0.7000000  & 0.5000000  & 0.4000000  & 0.50000000 & 0.70000000 & 0.5000000  & ⋯          & 0.10000000 & 0.2000000  & 0.30000000 & 0.4000000  & 0.40000000 & 0.3000000  & 0.5000000  & 0.30000000 & 0.1000000  & 0.70000000\\\\\n",
       "\t  5         & 0.96000000 & 0.9600000  & 0.84000000 & 0.8000000  & 0.9600000  & 0.7600000  & 0.80000000 & 0.84000000 & 0.9200000  & ⋯          & 0.68000000 & 0.8400000  & 0.84000000 & 0.6800000  & 0.72000000 & 0.8000000  & 0.8400000  & 0.96000000 & 0.9600000  & 1.00000000\\\\\n",
       "\t  6         & 0.70967742 & 0.5806452  & 0.61290323 & 0.4516129  & 0.5483871  & 0.6451613  & 0.74193548 & 0.77419355 & 0.4516129  & ⋯          & 0.74193548 & 0.7419355  & 0.67741935 & 0.6129032  & 0.67741935 & 0.6774194  & 0.7741935  & 0.58064516 & 0.7419355  & 0.70967742\\\\\n",
       "\t  7         & 0.00000000 & 0.1363636  & 0.09090909 & 0.1818182  & 0.2727273  & 0.1818182  & 0.09090909 & 0.04545455 & 0.1363636  & ⋯          & 0.04545455 & 0.0000000  & 0.09090909 & 0.0000000  & 0.09090909 & 0.4090909  & 0.1363636  & 0.09090909 & 0.1363636  & 0.00000000\\\\\n",
       "\t  8         & 0.50000000 & 0.6111111  & 0.77777778 & 0.3888889  & 0.7222222  & 0.5555556  & 0.66666667 & 0.77777778 & 0.6111111  & ⋯          & 0.83333333 & 0.6111111  & 0.50000000 & 0.5555556  & 0.55555556 & 0.7777778  & 0.8333333  & 0.61111111 & 0.7777778  & 0.27777778\\\\\n",
       "\t  9         & 0.89285714 & 0.8571429  & 0.82142857 & 0.8214286  & 0.8928571  & 0.7500000  & 0.85714286 & 0.96428571 & 0.5714286  & ⋯          & 0.71428571 & 0.8571429  & 0.92857143 & 0.7857143  & 0.85714286 & 0.7142857  & 0.9285714  & 0.78571429 & 0.9642857  & 0.71428571\\\\\n",
       "\t 10         & 0.07692308 & 0.1538462  & 0.23076923 & 0.0000000  & 0.0000000  & 0.1538462  & 0.07692308 & 0.38461538 & 0.1538462  & ⋯          & 0.07692308 & 0.0000000  & 0.23076923 & 0.2307692  & 0.00000000 & 0.1538462  & 0.2307692  & 0.07692308 & 0.2307692  & 0.07692308\\\\\n",
       "\\end{tabular}\n"
      ],
      "text/markdown": [
       "\n",
       "JLSA | X1 | X2 | X3 | X4 | X5 | X6 | X7 | X8 | X9 | ⋯ | X7991 | X7992 | X7993 | X7994 | X7995 | X7996 | X7997 | X7998 | X7999 | X8000 | \n",
       "|---|---|---|---|---|---|---|---|---|---|\n",
       "|  1         | 0.13114754 | 0.1639344  | 0.16393443 | 0.1639344  | 0.1967213  | 0.1639344  | 0.26229508 | 0.19672131 | 0.1967213  | ⋯          | 0.27868852 | 0.1803279  | 0.14754098 | 0.1803279  | 0.09836066 | 0.1311475  | 0.1147541  | 0.31147541 | 0.1475410  | 0.11475410 | \n",
       "|  2         | 0.81481481 | 0.7037037  | 0.77777778 | 0.6666667  | 0.9629630  | 0.7407407  | 0.88888889 | 0.88888889 | 0.9629630  | ⋯          | 0.77777778 | 0.7777778  | 0.88888889 | 0.8518519  | 0.70370370 | 0.7407407  | 0.6666667  | 0.74074074 | 0.8518519  | 0.70370370 | \n",
       "|  3         | 0.37142857 | 0.6857143  | 0.54285714 | 0.3714286  | 0.6000000  | 0.4857143  | 0.31428571 | 0.62857143 | 0.5714286  | ⋯          | 0.65714286 | 0.6000000  | 0.54285714 | 0.5142857  | 0.40000000 | 0.4857143  | 0.6285714  | 0.57142857 | 0.6000000  | 0.65714286 | \n",
       "|  4         | 0.50000000 | 0.2000000  | 0.20000000 | 0.7000000  | 0.5000000  | 0.4000000  | 0.50000000 | 0.70000000 | 0.5000000  | ⋯          | 0.10000000 | 0.2000000  | 0.30000000 | 0.4000000  | 0.40000000 | 0.3000000  | 0.5000000  | 0.30000000 | 0.1000000  | 0.70000000 | \n",
       "|  5         | 0.96000000 | 0.9600000  | 0.84000000 | 0.8000000  | 0.9600000  | 0.7600000  | 0.80000000 | 0.84000000 | 0.9200000  | ⋯          | 0.68000000 | 0.8400000  | 0.84000000 | 0.6800000  | 0.72000000 | 0.8000000  | 0.8400000  | 0.96000000 | 0.9600000  | 1.00000000 | \n",
       "|  6         | 0.70967742 | 0.5806452  | 0.61290323 | 0.4516129  | 0.5483871  | 0.6451613  | 0.74193548 | 0.77419355 | 0.4516129  | ⋯          | 0.74193548 | 0.7419355  | 0.67741935 | 0.6129032  | 0.67741935 | 0.6774194  | 0.7741935  | 0.58064516 | 0.7419355  | 0.70967742 | \n",
       "|  7         | 0.00000000 | 0.1363636  | 0.09090909 | 0.1818182  | 0.2727273  | 0.1818182  | 0.09090909 | 0.04545455 | 0.1363636  | ⋯          | 0.04545455 | 0.0000000  | 0.09090909 | 0.0000000  | 0.09090909 | 0.4090909  | 0.1363636  | 0.09090909 | 0.1363636  | 0.00000000 | \n",
       "|  8         | 0.50000000 | 0.6111111  | 0.77777778 | 0.3888889  | 0.7222222  | 0.5555556  | 0.66666667 | 0.77777778 | 0.6111111  | ⋯          | 0.83333333 | 0.6111111  | 0.50000000 | 0.5555556  | 0.55555556 | 0.7777778  | 0.8333333  | 0.61111111 | 0.7777778  | 0.27777778 | \n",
       "|  9         | 0.89285714 | 0.8571429  | 0.82142857 | 0.8214286  | 0.8928571  | 0.7500000  | 0.85714286 | 0.96428571 | 0.5714286  | ⋯          | 0.71428571 | 0.8571429  | 0.92857143 | 0.7857143  | 0.85714286 | 0.7142857  | 0.9285714  | 0.78571429 | 0.9642857  | 0.71428571 | \n",
       "| 10         | 0.07692308 | 0.1538462  | 0.23076923 | 0.0000000  | 0.0000000  | 0.1538462  | 0.07692308 | 0.38461538 | 0.1538462  | ⋯          | 0.07692308 | 0.0000000  | 0.23076923 | 0.2307692  | 0.00000000 | 0.1538462  | 0.2307692  | 0.07692308 | 0.2307692  | 0.07692308 | \n",
       "\n",
       "\n"
      ],
      "text/plain": [
       "      JLSA X1         X2        X3         X4        X5        X6       \n",
       " [1,]  1   0.13114754 0.1639344 0.16393443 0.1639344 0.1967213 0.1639344\n",
       " [2,]  2   0.81481481 0.7037037 0.77777778 0.6666667 0.9629630 0.7407407\n",
       " [3,]  3   0.37142857 0.6857143 0.54285714 0.3714286 0.6000000 0.4857143\n",
       " [4,]  4   0.50000000 0.2000000 0.20000000 0.7000000 0.5000000 0.4000000\n",
       " [5,]  5   0.96000000 0.9600000 0.84000000 0.8000000 0.9600000 0.7600000\n",
       " [6,]  6   0.70967742 0.5806452 0.61290323 0.4516129 0.5483871 0.6451613\n",
       " [7,]  7   0.00000000 0.1363636 0.09090909 0.1818182 0.2727273 0.1818182\n",
       " [8,]  8   0.50000000 0.6111111 0.77777778 0.3888889 0.7222222 0.5555556\n",
       " [9,]  9   0.89285714 0.8571429 0.82142857 0.8214286 0.8928571 0.7500000\n",
       "[10,] 10   0.07692308 0.1538462 0.23076923 0.0000000 0.0000000 0.1538462\n",
       "      X7         X8         X9        ⋯ X7991      X7992     X7993     \n",
       " [1,] 0.26229508 0.19672131 0.1967213 ⋯ 0.27868852 0.1803279 0.14754098\n",
       " [2,] 0.88888889 0.88888889 0.9629630 ⋯ 0.77777778 0.7777778 0.88888889\n",
       " [3,] 0.31428571 0.62857143 0.5714286 ⋯ 0.65714286 0.6000000 0.54285714\n",
       " [4,] 0.50000000 0.70000000 0.5000000 ⋯ 0.10000000 0.2000000 0.30000000\n",
       " [5,] 0.80000000 0.84000000 0.9200000 ⋯ 0.68000000 0.8400000 0.84000000\n",
       " [6,] 0.74193548 0.77419355 0.4516129 ⋯ 0.74193548 0.7419355 0.67741935\n",
       " [7,] 0.09090909 0.04545455 0.1363636 ⋯ 0.04545455 0.0000000 0.09090909\n",
       " [8,] 0.66666667 0.77777778 0.6111111 ⋯ 0.83333333 0.6111111 0.50000000\n",
       " [9,] 0.85714286 0.96428571 0.5714286 ⋯ 0.71428571 0.8571429 0.92857143\n",
       "[10,] 0.07692308 0.38461538 0.1538462 ⋯ 0.07692308 0.0000000 0.23076923\n",
       "      X7994     X7995      X7996     X7997     X7998      X7999     X8000     \n",
       " [1,] 0.1803279 0.09836066 0.1311475 0.1147541 0.31147541 0.1475410 0.11475410\n",
       " [2,] 0.8518519 0.70370370 0.7407407 0.6666667 0.74074074 0.8518519 0.70370370\n",
       " [3,] 0.5142857 0.40000000 0.4857143 0.6285714 0.57142857 0.6000000 0.65714286\n",
       " [4,] 0.4000000 0.40000000 0.3000000 0.5000000 0.30000000 0.1000000 0.70000000\n",
       " [5,] 0.6800000 0.72000000 0.8000000 0.8400000 0.96000000 0.9600000 1.00000000\n",
       " [6,] 0.6129032 0.67741935 0.6774194 0.7741935 0.58064516 0.7419355 0.70967742\n",
       " [7,] 0.0000000 0.09090909 0.4090909 0.1363636 0.09090909 0.1363636 0.00000000\n",
       " [8,] 0.5555556 0.55555556 0.7777778 0.8333333 0.61111111 0.7777778 0.27777778\n",
       " [9,] 0.7857143 0.85714286 0.7142857 0.9285714 0.78571429 0.9642857 0.71428571\n",
       "[10,] 0.2307692 0.00000000 0.1538462 0.2307692 0.07692308 0.2307692 0.07692308"
      ]
     },
     "metadata": {},
     "output_type": "display_data"
    }
   ],
   "source": [
    "sim_matrix"
   ]
  },
  {
   "cell_type": "code",
   "execution_count": 77,
   "metadata": {
    "collapsed": true
   },
   "outputs": [],
   "source": [
    "sim_matrix_t <- t(sim_matrix[,-1])"
   ]
  },
  {
   "cell_type": "markdown",
   "metadata": {},
   "source": [
    "Summary statistics of simulated prevalence for each geographical area"
   ]
  },
  {
   "cell_type": "code",
   "execution_count": 79,
   "metadata": {},
   "outputs": [
    {
     "data": {
      "text/plain": [
       "       V1               V2               V3               V4       \n",
       " Min.   :0.0000   Min.   :0.3333   Min.   :0.2286   Min.   :0.000  \n",
       " 1st Qu.:0.1475   1st Qu.:0.7037   1st Qu.:0.4857   1st Qu.:0.300  \n",
       " Median :0.1967   Median :0.7778   Median :0.5714   Median :0.400  \n",
       " Mean   :0.1933   Mean   :0.7751   Mean   :0.5645   Mean   :0.395  \n",
       " 3rd Qu.:0.2295   3rd Qu.:0.8519   3rd Qu.:0.6286   3rd Qu.:0.500  \n",
       " Max.   :0.4590   Max.   :1.0000   Max.   :0.8571   Max.   :1.000  \n",
       "       V5               V6               V7                V8        \n",
       " Min.   :0.3600   Min.   :0.2258   Min.   :0.00000   Min.   :0.1111  \n",
       " 1st Qu.:0.7600   1st Qu.:0.5806   1st Qu.:0.04545   1st Qu.:0.5556  \n",
       " Median :0.8400   Median :0.6452   Median :0.09091   Median :0.6111  \n",
       " Mean   :0.8314   Mean   :0.6422   Mean   :0.10432   Mean   :0.6341  \n",
       " 3rd Qu.:0.9200   3rd Qu.:0.7097   3rd Qu.:0.13636   3rd Qu.:0.7222  \n",
       " Max.   :1.0000   Max.   :0.9677   Max.   :0.54545   Max.   :1.0000  \n",
       "       V9              V10         \n",
       " Min.   :0.3571   Min.   :0.00000  \n",
       " 1st Qu.:0.7500   1st Qu.:0.07692  \n",
       " Median :0.8214   Median :0.15385  \n",
       " Mean   :0.8168   Mean   :0.13450  \n",
       " 3rd Qu.:0.8929   3rd Qu.:0.23077  \n",
       " Max.   :1.0000   Max.   :0.69231  "
      ]
     },
     "metadata": {},
     "output_type": "display_data"
    }
   ],
   "source": [
    "summary(sim_matrix_t)"
   ]
  },
  {
   "cell_type": "code",
   "execution_count": 33,
   "metadata": {
    "scrolled": true
   },
   "outputs": [
    {
     "name": "stderr",
     "output_type": "stream",
     "text": [
      "Warning message in FUN(X[[i]], ...):\n",
      "“input string 1 is invalid in this locale”Warning message in FUN(X[[i]], ...):\n",
      "“input string 1 is invalid in this locale”Warning message in FUN(X[[i]], ...):\n",
      "“input string 1 is invalid in this locale”Warning message in FUN(X[[i]], ...):\n",
      "“input string 1 is invalid in this locale”Warning message in FUN(X[[i]], ...):\n",
      "“input string 1 is invalid in this locale”Warning message in FUN(X[[i]], ...):\n",
      "“input string 1 is invalid in this locale”Warning message in FUN(X[[i]], ...):\n",
      "“input string 1 is invalid in this locale”Warning message in FUN(X[[i]], ...):\n",
      "“input string 1 is invalid in this locale”Warning message in FUN(X[[i]], ...):\n",
      "“input string 1 is invalid in this locale”Warning message in FUN(X[[i]], ...):\n",
      "“input string 1 is invalid in this locale”Warning message in FUN(X[[i]], ...):\n",
      "“input string 1 is invalid in this locale”Warning message in FUN(X[[i]], ...):\n",
      "“input string 1 is invalid in this locale”Warning message in FUN(X[[i]], ...):\n",
      "“input string 1 is invalid in this locale”Warning message in FUN(X[[i]], ...):\n",
      "“input string 1 is invalid in this locale”Warning message in FUN(X[[i]], ...):\n",
      "“input string 1 is invalid in this locale”Warning message in FUN(X[[i]], ...):\n",
      "“input string 1 is invalid in this locale”Warning message in grepl(\"<html.*>\", data[[\"text/html\"]], ignore.case = TRUE):\n",
      "“input string 1 is invalid in this locale”"
     ]
    },
    {
     "data": {
      "text/html": [
       "<table>\n",
       "<thead><tr><th scope=col>JLSA</th><th scope=col>prev</th></tr></thead>\n",
       "<tbody>\n",
       "\t<tr><td>Ahome                  </td><td>0.18032787             </td></tr>\n",
       "\t<tr><td>Angostura              </td><td>0.77777778             </td></tr>\n",
       "\t<tr><td>Eldorado               </td><td>0.57142857             </td></tr>\n",
       "\t<tr><td>Escuinapa              </td><td>0.40000000             </td></tr>\n",
       "\t<tr><td>Guasave Norte          </td><td>0.88000000             </td></tr>\n",
       "\t<tr><td>Guasave Sur            </td><td>0.64516129             </td></tr>\n",
       "\t<tr><td>Mazatl<e0>n-San Ignacio</td><td>0.04545455             </td></tr>\n",
       "\t<tr><td>Navolato Norte         </td><td>0.61111111             </td></tr>\n",
       "\t<tr><td>Navolato Sur           </td><td>0.85714286             </td></tr>\n",
       "\t<tr><td>Rosario                </td><td>0.07692308             </td></tr>\n",
       "</tbody>\n",
       "</table>\n"
      ],
      "text/markdown": [
       "\n",
       "JLSA | prev | \n",
       "|---|---|---|---|---|---|---|---|---|---|\n",
       "| Ahome                   | 0.18032787              | \n",
       "| Angostura               | 0.77777778              | \n",
       "| Eldorado                | 0.57142857              | \n",
       "| Escuinapa               | 0.40000000              | \n",
       "| Guasave Norte           | 0.88000000              | \n",
       "| Guasave Sur             | 0.64516129              | \n",
       "| Mazatl<e0>n-San Ignacio | 0.04545455              | \n",
       "| Navolato Norte          | 0.61111111              | \n",
       "| Navolato Sur            | 0.85714286              | \n",
       "| Rosario                 | 0.07692308              | \n",
       "\n",
       "\n"
      ],
      "text/plain": [
       "   JLSA                    prev      \n",
       "1  Ahome                   0.18032787\n",
       "2  Angostura               0.77777778\n",
       "3  Eldorado                0.57142857\n",
       "4  Escuinapa               0.40000000\n",
       "5  Guasave Norte           0.88000000\n",
       "6  Guasave Sur             0.64516129\n",
       "7  Mazatl\\xe0n-San Ignacio 0.04545455\n",
       "8  Navolato Norte          0.61111111\n",
       "9  Navolato Sur            0.85714286\n",
       "10 Rosario                 0.07692308"
      ]
     },
     "metadata": {},
     "output_type": "display_data"
    }
   ],
   "source": [
    "prevalence"
   ]
  },
  {
   "cell_type": "markdown",
   "metadata": {},
   "source": [
    "It looks good"
   ]
  },
  {
   "cell_type": "markdown",
   "metadata": {},
   "source": [
    "#### Plotting it"
   ]
  },
  {
   "cell_type": "code",
   "execution_count": 108,
   "metadata": {},
   "outputs": [
    {
     "data": {},
     "metadata": {},
     "output_type": "display_data"
    },
    {
     "data": {
      "image/png": "[encoded data removed]",
      "text/plain": [
       "plot without title"
      ]
     },
     "metadata": {},
     "output_type": "display_data"
    }
   ],
   "source": [
    "options(repr.plot.width = 12, repr.plot.height = 8)\n",
    "ppc_stat_grouped(prevalence$prev, sim_matrix_t, group = prevalence$JLSA, stat = \"mean\", \n",
    "                 facet_args = list(ncol=5), binwidth = 0.005) + legend_none()"
   ]
  },
  {
   "cell_type": "markdown",
   "metadata": {},
   "source": [
    "It looks good. The end"
   ]
  }
 ],
 "metadata": {
  "kernelspec": {
   "display_name": "R",
   "language": "R",
   "name": "ir"
  },
  "language_info": {
   "codemirror_mode": "r",
   "file_extension": ".r",
   "mimetype": "text/x-r-source",
   "name": "R",
   "pygments_lexer": "r",
   "version": "3.4.2"
  }
 },
 "nbformat": 4,
 "nbformat_minor": 2
}
